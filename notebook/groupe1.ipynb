{
 "cells": [
  {
   "cell_type": "markdown",
   "metadata": {},
   "source": [
    "### Projet Tutoré | Master 1 |  Groupe 1 "
   ]
  },
  {
   "cell_type": "markdown",
   "metadata": {},
   "source": [
    "#### --------------------------------------------------"
   ]
  },
  {
   "cell_type": "markdown",
   "metadata": {},
   "source": [
    "### Ce notebook permet de résoudre un problème lié à la assurance des voitures. Il permet de prédire le prix de l'assurance d'une voiture en fonction de plusieurs paramètres (les Etats, les collisions par conducteur...). L'algorithme utilisé ici est un algorithme de régression.\n"
   ]
  },
  {
   "cell_type": "markdown",
   "metadata": {},
   "source": [
    "### Importation des librairies "
   ]
  },
  {
   "cell_type": "code",
   "execution_count": null,
   "metadata": {},
   "outputs": [],
   "source": [
    "# Importer les bibliothèques nécessaires\n",
    "import numpy as np # Pour les opérations mathématiques sur les tableaux\n",
    "import pandas as pd # Pour la manipulation des données tabulaires\n",
    "import seaborn as sns # Pour la visualisation des données statistiques\n",
    "import matplotlib.pyplot as plt # Pour la création de graphiques\n",
    "import pycaret as py # Pour l'automatisation du machine learning\n"
   ]
  },
  {
   "cell_type": "markdown",
   "metadata": {},
   "source": [
    "### Importation et lecture du dataset"
   ]
  },
  {
   "cell_type": "code",
   "execution_count": null,
   "metadata": {},
   "outputs": [
    {
     "data": {
      "text/html": [
       "<div>\n",
       "<style scoped>\n",
       "    .dataframe tbody tr th:only-of-type {\n",
       "        vertical-align: middle;\n",
       "    }\n",
       "\n",
       "    .dataframe tbody tr th {\n",
       "        vertical-align: top;\n",
       "    }\n",
       "\n",
       "    .dataframe thead th {\n",
       "        text-align: right;\n",
       "    }\n",
       "</style>\n",
       "<table border=\"1\" class=\"dataframe\">\n",
       "  <thead>\n",
       "    <tr style=\"text-align: right;\">\n",
       "      <th></th>\n",
       "      <th>State</th>\n",
       "      <th>Number_billion_miles</th>\n",
       "      <th>Percentage_Speeding</th>\n",
       "      <th>Percentage_Alcohol</th>\n",
       "      <th>Percentage_Not_Distracted</th>\n",
       "      <th>Percentage_Accidents</th>\n",
       "      <th>Car_Insurance_Premiums</th>\n",
       "      <th>Losses_insured_driver</th>\n",
       "    </tr>\n",
       "  </thead>\n",
       "  <tbody>\n",
       "    <tr>\n",
       "      <th>0</th>\n",
       "      <td>Alabama</td>\n",
       "      <td>18.8</td>\n",
       "      <td>39</td>\n",
       "      <td>30</td>\n",
       "      <td>96</td>\n",
       "      <td>80</td>\n",
       "      <td>784.55</td>\n",
       "      <td>145.08</td>\n",
       "    </tr>\n",
       "    <tr>\n",
       "      <th>1</th>\n",
       "      <td>Alaska</td>\n",
       "      <td>18.1</td>\n",
       "      <td>41</td>\n",
       "      <td>25</td>\n",
       "      <td>90</td>\n",
       "      <td>94</td>\n",
       "      <td>1053.48</td>\n",
       "      <td>133.93</td>\n",
       "    </tr>\n",
       "    <tr>\n",
       "      <th>2</th>\n",
       "      <td>Arizona</td>\n",
       "      <td>18.6</td>\n",
       "      <td>35</td>\n",
       "      <td>28</td>\n",
       "      <td>84</td>\n",
       "      <td>96</td>\n",
       "      <td>899.47</td>\n",
       "      <td>110.35</td>\n",
       "    </tr>\n",
       "    <tr>\n",
       "      <th>3</th>\n",
       "      <td>Arkansas</td>\n",
       "      <td>22.4</td>\n",
       "      <td>18</td>\n",
       "      <td>26</td>\n",
       "      <td>94</td>\n",
       "      <td>95</td>\n",
       "      <td>827.34</td>\n",
       "      <td>142.39</td>\n",
       "    </tr>\n",
       "    <tr>\n",
       "      <th>4</th>\n",
       "      <td>California</td>\n",
       "      <td>12.0</td>\n",
       "      <td>35</td>\n",
       "      <td>28</td>\n",
       "      <td>91</td>\n",
       "      <td>89</td>\n",
       "      <td>878.41</td>\n",
       "      <td>165.63</td>\n",
       "    </tr>\n",
       "  </tbody>\n",
       "</table>\n",
       "</div>"
      ],
      "text/plain": [
       "        State  Number_billion_miles  Percentage_Speeding  Percentage_Alcohol  \\\n",
       "0     Alabama                  18.8                   39                  30   \n",
       "1      Alaska                  18.1                   41                  25   \n",
       "2     Arizona                  18.6                   35                  28   \n",
       "3    Arkansas                  22.4                   18                  26   \n",
       "4  California                  12.0                   35                  28   \n",
       "\n",
       "   Percentage_Not_Distracted  Percentage_Accidents  Car_Insurance_Premiums  \\\n",
       "0                         96                    80                  784.55   \n",
       "1                         90                    94                 1053.48   \n",
       "2                         84                    96                  899.47   \n",
       "3                         94                    95                  827.34   \n",
       "4                         91                    89                  878.41   \n",
       "\n",
       "   Losses_insured_driver  \n",
       "0                 145.08  \n",
       "1                 133.93  \n",
       "2                 110.35  \n",
       "3                 142.39  \n",
       "4                 165.63  "
      ]
     },
     "execution_count": 2,
     "metadata": {},
     "output_type": "execute_result"
    }
   ],
   "source": [
    "# Charger les données à partir d'un fichier CSV\n",
    "data = pd.read_csv(\"data/bad-drivers3.csv\")\n",
    "# Afficher les cinq premières lignes des données\n",
    "data.head()\n"
   ]
  },
  {
   "cell_type": "markdown",
   "metadata": {},
   "source": [
    "### Vérification du nombre de lignes et de colonnes du DataFrame"
   ]
  },
  {
   "cell_type": "code",
   "execution_count": null,
   "metadata": {},
   "outputs": [
    {
     "data": {
      "text/plain": [
       "(170, 8)"
      ]
     },
     "execution_count": 3,
     "metadata": {},
     "output_type": "execute_result"
    }
   ],
   "source": [
    "# Afficher la dimension des données (nombre de lignes et de colonnes)\n",
    "data.shape\n"
   ]
  },
  {
   "cell_type": "markdown",
   "metadata": {},
   "source": [
    "### Vérification de l'existance des colonnes vides dans le DataFrame"
   ]
  },
  {
   "cell_type": "code",
   "execution_count": null,
   "metadata": {},
   "outputs": [
    {
     "data": {
      "text/plain": [
       "State                        0\n",
       "Number_billion_miles         0\n",
       "Percentage_Speeding          0\n",
       "Percentage_Alcohol           0\n",
       "Percentage_Not_Distracted    0\n",
       "Percentage_Accidents         0\n",
       "Car_Insurance_Premiums       0\n",
       "Losses_insured_driver        0\n",
       "dtype: int64"
      ]
     },
     "execution_count": 4,
     "metadata": {},
     "output_type": "execute_result"
    }
   ],
   "source": [
    "# Afficher le nombre de valeurs manquantes par colonne\n",
    "data.isna().sum()\n"
   ]
  },
  {
   "cell_type": "markdown",
   "metadata": {},
   "source": [
    "### Statistique des données du DataFrame"
   ]
  },
  {
   "cell_type": "code",
   "execution_count": null,
   "metadata": {},
   "outputs": [
    {
     "data": {
      "text/html": [
       "<div>\n",
       "<style scoped>\n",
       "    .dataframe tbody tr th:only-of-type {\n",
       "        vertical-align: middle;\n",
       "    }\n",
       "\n",
       "    .dataframe tbody tr th {\n",
       "        vertical-align: top;\n",
       "    }\n",
       "\n",
       "    .dataframe thead th {\n",
       "        text-align: right;\n",
       "    }\n",
       "</style>\n",
       "<table border=\"1\" class=\"dataframe\">\n",
       "  <thead>\n",
       "    <tr style=\"text-align: right;\">\n",
       "      <th></th>\n",
       "      <th>Number_billion_miles</th>\n",
       "      <th>Percentage_Speeding</th>\n",
       "      <th>Percentage_Alcohol</th>\n",
       "      <th>Percentage_Not_Distracted</th>\n",
       "      <th>Percentage_Accidents</th>\n",
       "      <th>Car_Insurance_Premiums</th>\n",
       "      <th>Losses_insured_driver</th>\n",
       "    </tr>\n",
       "  </thead>\n",
       "  <tbody>\n",
       "    <tr>\n",
       "      <th>count</th>\n",
       "      <td>170.000000</td>\n",
       "      <td>170.000000</td>\n",
       "      <td>170.000000</td>\n",
       "      <td>170.000000</td>\n",
       "      <td>170.000000</td>\n",
       "      <td>170.000000</td>\n",
       "      <td>170.000000</td>\n",
       "    </tr>\n",
       "    <tr>\n",
       "      <th>mean</th>\n",
       "      <td>15.761176</td>\n",
       "      <td>31.835294</td>\n",
       "      <td>30.523529</td>\n",
       "      <td>86.300000</td>\n",
       "      <td>89.058824</td>\n",
       "      <td>888.136824</td>\n",
       "      <td>134.448706</td>\n",
       "    </tr>\n",
       "    <tr>\n",
       "      <th>std</th>\n",
       "      <td>4.054965</td>\n",
       "      <td>9.619196</td>\n",
       "      <td>5.044422</td>\n",
       "      <td>14.471294</td>\n",
       "      <td>6.882536</td>\n",
       "      <td>177.101592</td>\n",
       "      <td>24.292363</td>\n",
       "    </tr>\n",
       "    <tr>\n",
       "      <th>min</th>\n",
       "      <td>5.900000</td>\n",
       "      <td>13.000000</td>\n",
       "      <td>16.000000</td>\n",
       "      <td>10.000000</td>\n",
       "      <td>76.000000</td>\n",
       "      <td>641.960000</td>\n",
       "      <td>82.750000</td>\n",
       "    </tr>\n",
       "    <tr>\n",
       "      <th>25%</th>\n",
       "      <td>12.800000</td>\n",
       "      <td>23.000000</td>\n",
       "      <td>28.000000</td>\n",
       "      <td>84.000000</td>\n",
       "      <td>84.000000</td>\n",
       "      <td>768.950000</td>\n",
       "      <td>114.557500</td>\n",
       "    </tr>\n",
       "    <tr>\n",
       "      <th>50%</th>\n",
       "      <td>15.600000</td>\n",
       "      <td>34.000000</td>\n",
       "      <td>30.000000</td>\n",
       "      <td>89.000000</td>\n",
       "      <td>88.000000</td>\n",
       "      <td>858.970000</td>\n",
       "      <td>136.050000</td>\n",
       "    </tr>\n",
       "    <tr>\n",
       "      <th>75%</th>\n",
       "      <td>18.400000</td>\n",
       "      <td>38.000000</td>\n",
       "      <td>33.000000</td>\n",
       "      <td>95.000000</td>\n",
       "      <td>95.000000</td>\n",
       "      <td>1011.140000</td>\n",
       "      <td>151.480000</td>\n",
       "    </tr>\n",
       "    <tr>\n",
       "      <th>max</th>\n",
       "      <td>23.900000</td>\n",
       "      <td>54.000000</td>\n",
       "      <td>44.000000</td>\n",
       "      <td>100.000000</td>\n",
       "      <td>100.000000</td>\n",
       "      <td>1301.520000</td>\n",
       "      <td>194.780000</td>\n",
       "    </tr>\n",
       "  </tbody>\n",
       "</table>\n",
       "</div>"
      ],
      "text/plain": [
       "       Number_billion_miles  Percentage_Speeding  Percentage_Alcohol  \\\n",
       "count            170.000000           170.000000          170.000000   \n",
       "mean              15.761176            31.835294           30.523529   \n",
       "std                4.054965             9.619196            5.044422   \n",
       "min                5.900000            13.000000           16.000000   \n",
       "25%               12.800000            23.000000           28.000000   \n",
       "50%               15.600000            34.000000           30.000000   \n",
       "75%               18.400000            38.000000           33.000000   \n",
       "max               23.900000            54.000000           44.000000   \n",
       "\n",
       "       Percentage_Not_Distracted  Percentage_Accidents  \\\n",
       "count                 170.000000            170.000000   \n",
       "mean                   86.300000             89.058824   \n",
       "std                    14.471294              6.882536   \n",
       "min                    10.000000             76.000000   \n",
       "25%                    84.000000             84.000000   \n",
       "50%                    89.000000             88.000000   \n",
       "75%                    95.000000             95.000000   \n",
       "max                   100.000000            100.000000   \n",
       "\n",
       "       Car_Insurance_Premiums  Losses_insured_driver  \n",
       "count              170.000000             170.000000  \n",
       "mean               888.136824             134.448706  \n",
       "std                177.101592              24.292363  \n",
       "min                641.960000              82.750000  \n",
       "25%                768.950000             114.557500  \n",
       "50%                858.970000             136.050000  \n",
       "75%               1011.140000             151.480000  \n",
       "max               1301.520000             194.780000  "
      ]
     },
     "execution_count": 5,
     "metadata": {},
     "output_type": "execute_result"
    }
   ],
   "source": [
    "# Afficher les statistiques descriptives des variables numériques\n",
    "data.describe()\n"
   ]
  },
  {
   "cell_type": "markdown",
   "metadata": {},
   "source": [
    "### Affichage de toutes les colonnes du DataFrame"
   ]
  },
  {
   "cell_type": "code",
   "execution_count": null,
   "metadata": {},
   "outputs": [
    {
     "data": {
      "text/plain": [
       "Index(['State', 'Number_billion_miles', 'Percentage_Speeding',\n",
       "       'Percentage_Alcohol', 'Percentage_Not_Distracted',\n",
       "       'Percentage_Accidents', 'Car_Insurance_Premiums',\n",
       "       'Losses_insured_driver'],\n",
       "      dtype='object')"
      ]
     },
     "execution_count": 6,
     "metadata": {},
     "output_type": "execute_result"
    }
   ],
   "source": [
    "# Afficher les noms des colonnes des données\n",
    "data.columns\n"
   ]
  },
  {
   "cell_type": "markdown",
   "metadata": {},
   "source": [
    "### Plot de  quelques colonnes du dataframe avec le target Car Insurance Premiums "
   ]
  },
  {
   "cell_type": "code",
   "execution_count": null,
   "metadata": {},
   "outputs": [
    {
     "data": {
      "text/plain": [
       "<Axes: xlabel='Percentage_Alcohol', ylabel='Car_Insurance_Premiums'>"
      ]
     },
     "execution_count": 7,
     "metadata": {},
     "output_type": "execute_result"
    },
    {
     "data": {
      "image/png": "[encoded data removed]",
      "text/plain": [
       "<Figure size 640x480 with 1 Axes>"
      ]
     },
     "metadata": {},
     "output_type": "display_data"
    }
   ],
   "source": [
    "# Afficher un nuage de points entre les variables \"Percentage_Alcohol\" et \"Car_Insurance_Premiums\"\n",
    "# Utiliser la couleur pour représenter les valeurs de \"Car_Insurance_Premiums\"\n",
    "sns.scatterplot(x=\"Percentage_Alcohol\" ,y=\"Car_Insurance_Premiums\", hue=\"Car_Insurance_Premiums\", data=data)\n"
   ]
  },
  {
   "cell_type": "code",
   "execution_count": null,
   "metadata": {},
   "outputs": [
    {
     "data": {
      "text/plain": [
       "<Axes: xlabel='Losses_insured_driver', ylabel='Car_Insurance_Premiums'>"
      ]
     },
     "execution_count": 8,
     "metadata": {},
     "output_type": "execute_result"
    },
    {
     "data": {
      "image/png": "[encoded data removed]",
      "text/plain": [
       "<Figure size 640x480 with 1 Axes>"
      ]
     },
     "metadata": {},
     "output_type": "display_data"
    }
   ],
   "source": [
    "# Afficher un nuage de points entre les variables \"Losses_insured_driver\" et \"Car_Insurance_Premiums\"\n",
    "# Utiliser la couleur pour représenter les valeurs de \"Car_Insurance_Premiums\"\n",
    "sns.scatterplot(x=\"Losses_insured_driver\" ,y=\"Car_Insurance_Premiums\", hue=\"Car_Insurance_Premiums\", data=data)\n"
   ]
  },
  {
   "cell_type": "code",
   "execution_count": null,
   "metadata": {},
   "outputs": [
    {
     "data": {
      "text/html": [
       "<div>\n",
       "<style scoped>\n",
       "    .dataframe tbody tr th:only-of-type {\n",
       "        vertical-align: middle;\n",
       "    }\n",
       "\n",
       "    .dataframe tbody tr th {\n",
       "        vertical-align: top;\n",
       "    }\n",
       "\n",
       "    .dataframe thead th {\n",
       "        text-align: right;\n",
       "    }\n",
       "</style>\n",
       "<table border=\"1\" class=\"dataframe\">\n",
       "  <thead>\n",
       "    <tr style=\"text-align: right;\">\n",
       "      <th></th>\n",
       "      <th>Number_billion_miles</th>\n",
       "      <th>Percentage_Speeding</th>\n",
       "      <th>Percentage_Alcohol</th>\n",
       "      <th>Percentage_Not_Distracted</th>\n",
       "      <th>Percentage_Accidents</th>\n",
       "      <th>Car_Insurance_Premiums</th>\n",
       "      <th>Losses_insured_driver</th>\n",
       "    </tr>\n",
       "  </thead>\n",
       "  <tbody>\n",
       "    <tr>\n",
       "      <th>0</th>\n",
       "      <td>18.8</td>\n",
       "      <td>39</td>\n",
       "      <td>30</td>\n",
       "      <td>96</td>\n",
       "      <td>80</td>\n",
       "      <td>784.55</td>\n",
       "      <td>145.08</td>\n",
       "    </tr>\n",
       "    <tr>\n",
       "      <th>1</th>\n",
       "      <td>18.1</td>\n",
       "      <td>41</td>\n",
       "      <td>25</td>\n",
       "      <td>90</td>\n",
       "      <td>94</td>\n",
       "      <td>1053.48</td>\n",
       "      <td>133.93</td>\n",
       "    </tr>\n",
       "    <tr>\n",
       "      <th>2</th>\n",
       "      <td>18.6</td>\n",
       "      <td>35</td>\n",
       "      <td>28</td>\n",
       "      <td>84</td>\n",
       "      <td>96</td>\n",
       "      <td>899.47</td>\n",
       "      <td>110.35</td>\n",
       "    </tr>\n",
       "    <tr>\n",
       "      <th>3</th>\n",
       "      <td>22.4</td>\n",
       "      <td>18</td>\n",
       "      <td>26</td>\n",
       "      <td>94</td>\n",
       "      <td>95</td>\n",
       "      <td>827.34</td>\n",
       "      <td>142.39</td>\n",
       "    </tr>\n",
       "    <tr>\n",
       "      <th>4</th>\n",
       "      <td>12.0</td>\n",
       "      <td>35</td>\n",
       "      <td>28</td>\n",
       "      <td>91</td>\n",
       "      <td>89</td>\n",
       "      <td>878.41</td>\n",
       "      <td>165.63</td>\n",
       "    </tr>\n",
       "  </tbody>\n",
       "</table>\n",
       "</div>"
      ],
      "text/plain": [
       "   Number_billion_miles  Percentage_Speeding  Percentage_Alcohol  \\\n",
       "0                  18.8                   39                  30   \n",
       "1                  18.1                   41                  25   \n",
       "2                  18.6                   35                  28   \n",
       "3                  22.4                   18                  26   \n",
       "4                  12.0                   35                  28   \n",
       "\n",
       "   Percentage_Not_Distracted  Percentage_Accidents  Car_Insurance_Premiums  \\\n",
       "0                         96                    80                  784.55   \n",
       "1                         90                    94                 1053.48   \n",
       "2                         84                    96                  899.47   \n",
       "3                         94                    95                  827.34   \n",
       "4                         91                    89                  878.41   \n",
       "\n",
       "   Losses_insured_driver  \n",
       "0                 145.08  \n",
       "1                 133.93  \n",
       "2                 110.35  \n",
       "3                 142.39  \n",
       "4                 165.63  "
      ]
     },
     "execution_count": 9,
     "metadata": {},
     "output_type": "execute_result"
    }
   ],
   "source": [
    "# Supprimer la colonne \"State\" des données\n",
    "dataset = data.drop([\"State\"],axis=1)\n",
    "# Afficher les cinq premières lignes du nouveau jeu de données\n",
    "dataset.head()\n"
   ]
  },
  {
   "cell_type": "markdown",
   "metadata": {},
   "source": [
    "### Tableau de corrélation"
   ]
  },
  {
   "cell_type": "code",
   "execution_count": null,
   "metadata": {},
   "outputs": [
    {
     "data": {
      "text/html": [
       "<div>\n",
       "<style scoped>\n",
       "    .dataframe tbody tr th:only-of-type {\n",
       "        vertical-align: middle;\n",
       "    }\n",
       "\n",
       "    .dataframe tbody tr th {\n",
       "        vertical-align: top;\n",
       "    }\n",
       "\n",
       "    .dataframe thead th {\n",
       "        text-align: right;\n",
       "    }\n",
       "</style>\n",
       "<table border=\"1\" class=\"dataframe\">\n",
       "  <thead>\n",
       "    <tr style=\"text-align: right;\">\n",
       "      <th></th>\n",
       "      <th>Number_billion_miles</th>\n",
       "      <th>Percentage_Speeding</th>\n",
       "      <th>Percentage_Alcohol</th>\n",
       "      <th>Percentage_Not_Distracted</th>\n",
       "      <th>Percentage_Accidents</th>\n",
       "      <th>Car_Insurance_Premiums</th>\n",
       "      <th>Losses_insured_driver</th>\n",
       "    </tr>\n",
       "  </thead>\n",
       "  <tbody>\n",
       "    <tr>\n",
       "      <th>Number_billion_miles</th>\n",
       "      <td>1.000000</td>\n",
       "      <td>-0.048921</td>\n",
       "      <td>0.173380</td>\n",
       "      <td>-0.001706</td>\n",
       "      <td>-0.031933</td>\n",
       "      <td>-0.212949</td>\n",
       "      <td>-0.047961</td>\n",
       "    </tr>\n",
       "    <tr>\n",
       "      <th>Percentage_Speeding</th>\n",
       "      <td>-0.048921</td>\n",
       "      <td>1.000000</td>\n",
       "      <td>0.319210</td>\n",
       "      <td>0.105734</td>\n",
       "      <td>0.000773</td>\n",
       "      <td>0.060080</td>\n",
       "      <td>-0.046866</td>\n",
       "    </tr>\n",
       "    <tr>\n",
       "      <th>Percentage_Alcohol</th>\n",
       "      <td>0.173380</td>\n",
       "      <td>0.319210</td>\n",
       "      <td>1.000000</td>\n",
       "      <td>0.025882</td>\n",
       "      <td>-0.255519</td>\n",
       "      <td>-0.012204</td>\n",
       "      <td>-0.070687</td>\n",
       "    </tr>\n",
       "    <tr>\n",
       "      <th>Percentage_Not_Distracted</th>\n",
       "      <td>-0.001706</td>\n",
       "      <td>0.105734</td>\n",
       "      <td>0.025882</td>\n",
       "      <td>1.000000</td>\n",
       "      <td>-0.167654</td>\n",
       "      <td>0.026527</td>\n",
       "      <td>-0.051563</td>\n",
       "    </tr>\n",
       "    <tr>\n",
       "      <th>Percentage_Accidents</th>\n",
       "      <td>-0.031933</td>\n",
       "      <td>0.000773</td>\n",
       "      <td>-0.255519</td>\n",
       "      <td>-0.167654</td>\n",
       "      <td>1.000000</td>\n",
       "      <td>0.093642</td>\n",
       "      <td>0.015807</td>\n",
       "    </tr>\n",
       "    <tr>\n",
       "      <th>Car_Insurance_Premiums</th>\n",
       "      <td>-0.212949</td>\n",
       "      <td>0.060080</td>\n",
       "      <td>-0.012204</td>\n",
       "      <td>0.026527</td>\n",
       "      <td>0.093642</td>\n",
       "      <td>1.000000</td>\n",
       "      <td>0.614833</td>\n",
       "    </tr>\n",
       "    <tr>\n",
       "      <th>Losses_insured_driver</th>\n",
       "      <td>-0.047961</td>\n",
       "      <td>-0.046866</td>\n",
       "      <td>-0.070687</td>\n",
       "      <td>-0.051563</td>\n",
       "      <td>0.015807</td>\n",
       "      <td>0.614833</td>\n",
       "      <td>1.000000</td>\n",
       "    </tr>\n",
       "  </tbody>\n",
       "</table>\n",
       "</div>"
      ],
      "text/plain": [
       "                           Number_billion_miles  Percentage_Speeding  \\\n",
       "Number_billion_miles                   1.000000            -0.048921   \n",
       "Percentage_Speeding                   -0.048921             1.000000   \n",
       "Percentage_Alcohol                     0.173380             0.319210   \n",
       "Percentage_Not_Distracted             -0.001706             0.105734   \n",
       "Percentage_Accidents                  -0.031933             0.000773   \n",
       "Car_Insurance_Premiums                -0.212949             0.060080   \n",
       "Losses_insured_driver                 -0.047961            -0.046866   \n",
       "\n",
       "                           Percentage_Alcohol  Percentage_Not_Distracted  \\\n",
       "Number_billion_miles                 0.173380                  -0.001706   \n",
       "Percentage_Speeding                  0.319210                   0.105734   \n",
       "Percentage_Alcohol                   1.000000                   0.025882   \n",
       "Percentage_Not_Distracted            0.025882                   1.000000   \n",
       "Percentage_Accidents                -0.255519                  -0.167654   \n",
       "Car_Insurance_Premiums              -0.012204                   0.026527   \n",
       "Losses_insured_driver               -0.070687                  -0.051563   \n",
       "\n",
       "                           Percentage_Accidents  Car_Insurance_Premiums  \\\n",
       "Number_billion_miles                  -0.031933               -0.212949   \n",
       "Percentage_Speeding                    0.000773                0.060080   \n",
       "Percentage_Alcohol                    -0.255519               -0.012204   \n",
       "Percentage_Not_Distracted             -0.167654                0.026527   \n",
       "Percentage_Accidents                   1.000000                0.093642   \n",
       "Car_Insurance_Premiums                 0.093642                1.000000   \n",
       "Losses_insured_driver                  0.015807                0.614833   \n",
       "\n",
       "                           Losses_insured_driver  \n",
       "Number_billion_miles                   -0.047961  \n",
       "Percentage_Speeding                    -0.046866  \n",
       "Percentage_Alcohol                     -0.070687  \n",
       "Percentage_Not_Distracted              -0.051563  \n",
       "Percentage_Accidents                    0.015807  \n",
       "Car_Insurance_Premiums                  0.614833  \n",
       "Losses_insured_driver                   1.000000  "
      ]
     },
     "execution_count": 10,
     "metadata": {},
     "output_type": "execute_result"
    }
   ],
   "source": [
    "# Calculer la matrice de corrélation entre les variables numériques\n",
    "dataset.corr()\n"
   ]
  },
  {
   "cell_type": "markdown",
   "metadata": {},
   "source": [
    "### Matrice de corrélation"
   ]
  },
  {
   "cell_type": "code",
   "execution_count": null,
   "metadata": {},
   "outputs": [
    {
     "data": {
      "image/png": "[encoded data removed]",
      "text/plain": [
       "<Figure size 640x480 with 2 Axes>"
      ]
     },
     "metadata": {},
     "output_type": "display_data"
    }
   ],
   "source": [
    "# Afficher la matrice de corrélation sous forme de carte de chaleur\n",
    "# Utiliser une palette de couleurs allant du rouge au bleu, centrée sur zéro\n",
    "# Ajouter des lignes entre les cases et des annotations avec le format décimal\n",
    "# Limiter l'échelle des couleurs entre -1 et 1\n",
    "sns.heatmap(dataset.corr(), center=0, cmap=\"RdBu\", linewidths=1, annot=True, fmt=\".2f\", vmin=-1, vmax=1)\n",
    "# Ajouter un titre au graphique avec une taille et une épaisseur de police\n",
    "plt.title(\"Matrice de corrélation\", fontsize=\"15\", fontweight=\"bold\")\n",
    "# Afficher le graphique\n",
    "plt.show()\n"
   ]
  },
  {
   "cell_type": "markdown",
   "metadata": {},
   "source": [
    "### Importation et utilisation de Pycaret"
   ]
  },
  {
   "cell_type": "code",
   "execution_count": null,
   "metadata": {},
   "outputs": [
    {
     "data": {
      "text/html": [
       "<style type=\"text/css\">\n",
       "#T_74737_row8_col1, #T_74737_row12_col1, #T_74737_row17_col1 {\n",
       "  background-color: lightgreen;\n",
       "}\n",
       "</style>\n",
       "<table id=\"T_74737\">\n",
       "  <thead>\n",
       "    <tr>\n",
       "      <th class=\"blank level0\" >&nbsp;</th>\n",
       "      <th id=\"T_74737_level0_col0\" class=\"col_heading level0 col0\" >Description</th>\n",
       "      <th id=\"T_74737_level0_col1\" class=\"col_heading level0 col1\" >Value</th>\n",
       "    </tr>\n",
       "  </thead>\n",
       "  <tbody>\n",
       "    <tr>\n",
       "      <th id=\"T_74737_level0_row0\" class=\"row_heading level0 row0\" >0</th>\n",
       "      <td id=\"T_74737_row0_col0\" class=\"data row0 col0\" >Session id</td>\n",
       "      <td id=\"T_74737_row0_col1\" class=\"data row0 col1\" >362</td>\n",
       "    </tr>\n",
       "    <tr>\n",
       "      <th id=\"T_74737_level0_row1\" class=\"row_heading level0 row1\" >1</th>\n",
       "      <td id=\"T_74737_row1_col0\" class=\"data row1 col0\" >Target</td>\n",
       "      <td id=\"T_74737_row1_col1\" class=\"data row1 col1\" >Car_Insurance_Premiums</td>\n",
       "    </tr>\n",
       "    <tr>\n",
       "      <th id=\"T_74737_level0_row2\" class=\"row_heading level0 row2\" >2</th>\n",
       "      <td id=\"T_74737_row2_col0\" class=\"data row2 col0\" >Target type</td>\n",
       "      <td id=\"T_74737_row2_col1\" class=\"data row2 col1\" >Regression</td>\n",
       "    </tr>\n",
       "    <tr>\n",
       "      <th id=\"T_74737_level0_row3\" class=\"row_heading level0 row3\" >3</th>\n",
       "      <td id=\"T_74737_row3_col0\" class=\"data row3 col0\" >Original data shape</td>\n",
       "      <td id=\"T_74737_row3_col1\" class=\"data row3 col1\" >(170, 7)</td>\n",
       "    </tr>\n",
       "    <tr>\n",
       "      <th id=\"T_74737_level0_row4\" class=\"row_heading level0 row4\" >4</th>\n",
       "      <td id=\"T_74737_row4_col0\" class=\"data row4 col0\" >Transformed data shape</td>\n",
       "      <td id=\"T_74737_row4_col1\" class=\"data row4 col1\" >(170, 7)</td>\n",
       "    </tr>\n",
       "    <tr>\n",
       "      <th id=\"T_74737_level0_row5\" class=\"row_heading level0 row5\" >5</th>\n",
       "      <td id=\"T_74737_row5_col0\" class=\"data row5 col0\" >Transformed train set shape</td>\n",
       "      <td id=\"T_74737_row5_col1\" class=\"data row5 col1\" >(118, 7)</td>\n",
       "    </tr>\n",
       "    <tr>\n",
       "      <th id=\"T_74737_level0_row6\" class=\"row_heading level0 row6\" >6</th>\n",
       "      <td id=\"T_74737_row6_col0\" class=\"data row6 col0\" >Transformed test set shape</td>\n",
       "      <td id=\"T_74737_row6_col1\" class=\"data row6 col1\" >(52, 7)</td>\n",
       "    </tr>\n",
       "    <tr>\n",
       "      <th id=\"T_74737_level0_row7\" class=\"row_heading level0 row7\" >7</th>\n",
       "      <td id=\"T_74737_row7_col0\" class=\"data row7 col0\" >Numeric features</td>\n",
       "      <td id=\"T_74737_row7_col1\" class=\"data row7 col1\" >6</td>\n",
       "    </tr>\n",
       "    <tr>\n",
       "      <th id=\"T_74737_level0_row8\" class=\"row_heading level0 row8\" >8</th>\n",
       "      <td id=\"T_74737_row8_col0\" class=\"data row8 col0\" >Preprocess</td>\n",
       "      <td id=\"T_74737_row8_col1\" class=\"data row8 col1\" >True</td>\n",
       "    </tr>\n",
       "    <tr>\n",
       "      <th id=\"T_74737_level0_row9\" class=\"row_heading level0 row9\" >9</th>\n",
       "      <td id=\"T_74737_row9_col0\" class=\"data row9 col0\" >Imputation type</td>\n",
       "      <td id=\"T_74737_row9_col1\" class=\"data row9 col1\" >simple</td>\n",
       "    </tr>\n",
       "    <tr>\n",
       "      <th id=\"T_74737_level0_row10\" class=\"row_heading level0 row10\" >10</th>\n",
       "      <td id=\"T_74737_row10_col0\" class=\"data row10 col0\" >Numeric imputation</td>\n",
       "      <td id=\"T_74737_row10_col1\" class=\"data row10 col1\" >mean</td>\n",
       "    </tr>\n",
       "    <tr>\n",
       "      <th id=\"T_74737_level0_row11\" class=\"row_heading level0 row11\" >11</th>\n",
       "      <td id=\"T_74737_row11_col0\" class=\"data row11 col0\" >Categorical imputation</td>\n",
       "      <td id=\"T_74737_row11_col1\" class=\"data row11 col1\" >mode</td>\n",
       "    </tr>\n",
       "    <tr>\n",
       "      <th id=\"T_74737_level0_row12\" class=\"row_heading level0 row12\" >12</th>\n",
       "      <td id=\"T_74737_row12_col0\" class=\"data row12 col0\" >Normalize</td>\n",
       "      <td id=\"T_74737_row12_col1\" class=\"data row12 col1\" >True</td>\n",
       "    </tr>\n",
       "    <tr>\n",
       "      <th id=\"T_74737_level0_row13\" class=\"row_heading level0 row13\" >13</th>\n",
       "      <td id=\"T_74737_row13_col0\" class=\"data row13 col0\" >Normalize method</td>\n",
       "      <td id=\"T_74737_row13_col1\" class=\"data row13 col1\" >minmax</td>\n",
       "    </tr>\n",
       "    <tr>\n",
       "      <th id=\"T_74737_level0_row14\" class=\"row_heading level0 row14\" >14</th>\n",
       "      <td id=\"T_74737_row14_col0\" class=\"data row14 col0\" >Fold Generator</td>\n",
       "      <td id=\"T_74737_row14_col1\" class=\"data row14 col1\" >KFold</td>\n",
       "    </tr>\n",
       "    <tr>\n",
       "      <th id=\"T_74737_level0_row15\" class=\"row_heading level0 row15\" >15</th>\n",
       "      <td id=\"T_74737_row15_col0\" class=\"data row15 col0\" >Fold Number</td>\n",
       "      <td id=\"T_74737_row15_col1\" class=\"data row15 col1\" >10</td>\n",
       "    </tr>\n",
       "    <tr>\n",
       "      <th id=\"T_74737_level0_row16\" class=\"row_heading level0 row16\" >16</th>\n",
       "      <td id=\"T_74737_row16_col0\" class=\"data row16 col0\" >CPU Jobs</td>\n",
       "      <td id=\"T_74737_row16_col1\" class=\"data row16 col1\" >-1</td>\n",
       "    </tr>\n",
       "    <tr>\n",
       "      <th id=\"T_74737_level0_row17\" class=\"row_heading level0 row17\" >17</th>\n",
       "      <td id=\"T_74737_row17_col0\" class=\"data row17 col0\" >Use GPU</td>\n",
       "      <td id=\"T_74737_row17_col1\" class=\"data row17 col1\" >True</td>\n",
       "    </tr>\n",
       "    <tr>\n",
       "      <th id=\"T_74737_level0_row18\" class=\"row_heading level0 row18\" >18</th>\n",
       "      <td id=\"T_74737_row18_col0\" class=\"data row18 col0\" >Log Experiment</td>\n",
       "      <td id=\"T_74737_row18_col1\" class=\"data row18 col1\" >False</td>\n",
       "    </tr>\n",
       "    <tr>\n",
       "      <th id=\"T_74737_level0_row19\" class=\"row_heading level0 row19\" >19</th>\n",
       "      <td id=\"T_74737_row19_col0\" class=\"data row19 col0\" >Experiment Name</td>\n",
       "      <td id=\"T_74737_row19_col1\" class=\"data row19 col1\" >reg-default-name</td>\n",
       "    </tr>\n",
       "    <tr>\n",
       "      <th id=\"T_74737_level0_row20\" class=\"row_heading level0 row20\" >20</th>\n",
       "      <td id=\"T_74737_row20_col0\" class=\"data row20 col0\" >USI</td>\n",
       "      <td id=\"T_74737_row20_col1\" class=\"data row20 col1\" >7113</td>\n",
       "    </tr>\n",
       "  </tbody>\n",
       "</table>\n"
      ],
      "text/plain": [
       "<pandas.io.formats.style.Styler at 0x2229a2f8f10>"
      ]
     },
     "metadata": {},
     "output_type": "display_data"
    }
   ],
   "source": [
    "# Importer le module de régression de pycaret\n",
    "from pycaret.regression import*\n",
    "# Initialiser l'environnement de pycaret avec le jeu de données et la variable cible\n",
    "# Normaliser les données avec la méthode min-max\n",
    "# Utiliser le GPU si disponible\n",
    "s= setup(dataset,target=\"Car_Insurance_Premiums\",normalize=True,normalize_method=\"minmax\", use_gpu=True)\n"
   ]
  },
  {
   "cell_type": "markdown",
   "metadata": {},
   "source": [
    "### Comparaison des modèles pour déterminer le meilleur modèle"
   ]
  },
  {
   "cell_type": "code",
   "execution_count": null,
   "metadata": {},
   "outputs": [
    {
     "data": {
      "text/html": [],
      "text/plain": [
       "<IPython.core.display.HTML object>"
      ]
     },
     "metadata": {},
     "output_type": "display_data"
    },
    {
     "data": {
      "text/html": [
       "<style type=\"text/css\">\n",
       "#T_69f4c th {\n",
       "  text-align: left;\n",
       "}\n",
       "#T_69f4c_row0_col0, #T_69f4c_row0_col1, #T_69f4c_row0_col2, #T_69f4c_row0_col3, #T_69f4c_row0_col5, #T_69f4c_row0_col6, #T_69f4c_row1_col0, #T_69f4c_row1_col4, #T_69f4c_row2_col0, #T_69f4c_row2_col1, #T_69f4c_row2_col2, #T_69f4c_row2_col3, #T_69f4c_row2_col4, #T_69f4c_row2_col5, #T_69f4c_row2_col6, #T_69f4c_row3_col0, #T_69f4c_row3_col1, #T_69f4c_row3_col2, #T_69f4c_row3_col3, #T_69f4c_row3_col4, #T_69f4c_row3_col5, #T_69f4c_row3_col6, #T_69f4c_row4_col0, #T_69f4c_row4_col1, #T_69f4c_row4_col2, #T_69f4c_row4_col3, #T_69f4c_row4_col4, #T_69f4c_row4_col5, #T_69f4c_row4_col6 {\n",
       "  text-align: left;\n",
       "}\n",
       "#T_69f4c_row0_col4, #T_69f4c_row1_col1, #T_69f4c_row1_col2, #T_69f4c_row1_col3, #T_69f4c_row1_col5, #T_69f4c_row1_col6 {\n",
       "  text-align: left;\n",
       "  background-color: yellow;\n",
       "}\n",
       "#T_69f4c_row0_col7, #T_69f4c_row1_col7, #T_69f4c_row2_col7, #T_69f4c_row4_col7 {\n",
       "  text-align: left;\n",
       "  background-color: lightgrey;\n",
       "}\n",
       "#T_69f4c_row3_col7 {\n",
       "  text-align: left;\n",
       "  background-color: yellow;\n",
       "  background-color: lightgrey;\n",
       "}\n",
       "</style>\n",
       "<table id=\"T_69f4c\">\n",
       "  <thead>\n",
       "    <tr>\n",
       "      <th class=\"blank level0\" >&nbsp;</th>\n",
       "      <th id=\"T_69f4c_level0_col0\" class=\"col_heading level0 col0\" >Model</th>\n",
       "      <th id=\"T_69f4c_level0_col1\" class=\"col_heading level0 col1\" >MAE</th>\n",
       "      <th id=\"T_69f4c_level0_col2\" class=\"col_heading level0 col2\" >MSE</th>\n",
       "      <th id=\"T_69f4c_level0_col3\" class=\"col_heading level0 col3\" >RMSE</th>\n",
       "      <th id=\"T_69f4c_level0_col4\" class=\"col_heading level0 col4\" >R2</th>\n",
       "      <th id=\"T_69f4c_level0_col5\" class=\"col_heading level0 col5\" >RMSLE</th>\n",
       "      <th id=\"T_69f4c_level0_col6\" class=\"col_heading level0 col6\" >MAPE</th>\n",
       "      <th id=\"T_69f4c_level0_col7\" class=\"col_heading level0 col7\" >TT (Sec)</th>\n",
       "    </tr>\n",
       "  </thead>\n",
       "  <tbody>\n",
       "    <tr>\n",
       "      <th id=\"T_69f4c_level0_row0\" class=\"row_heading level0 row0\" >gbr</th>\n",
       "      <td id=\"T_69f4c_row0_col0\" class=\"data row0 col0\" >Gradient Boosting Regressor</td>\n",
       "      <td id=\"T_69f4c_row0_col1\" class=\"data row0 col1\" >30.2793</td>\n",
       "      <td id=\"T_69f4c_row0_col2\" class=\"data row0 col2\" >6418.6629</td>\n",
       "      <td id=\"T_69f4c_row0_col3\" class=\"data row0 col3\" >58.5921</td>\n",
       "      <td id=\"T_69f4c_row0_col4\" class=\"data row0 col4\" >0.8011</td>\n",
       "      <td id=\"T_69f4c_row0_col5\" class=\"data row0 col5\" >0.0595</td>\n",
       "      <td id=\"T_69f4c_row0_col6\" class=\"data row0 col6\" >0.0307</td>\n",
       "      <td id=\"T_69f4c_row0_col7\" class=\"data row0 col7\" >1.5570</td>\n",
       "    </tr>\n",
       "    <tr>\n",
       "      <th id=\"T_69f4c_level0_row1\" class=\"row_heading level0 row1\" >et</th>\n",
       "      <td id=\"T_69f4c_row1_col0\" class=\"data row1 col0\" >Extra Trees Regressor</td>\n",
       "      <td id=\"T_69f4c_row1_col1\" class=\"data row1 col1\" >21.9954</td>\n",
       "      <td id=\"T_69f4c_row1_col2\" class=\"data row1 col2\" >5279.6437</td>\n",
       "      <td id=\"T_69f4c_row1_col3\" class=\"data row1 col3\" >53.9248</td>\n",
       "      <td id=\"T_69f4c_row1_col4\" class=\"data row1 col4\" >0.7832</td>\n",
       "      <td id=\"T_69f4c_row1_col5\" class=\"data row1 col5\" >0.0542</td>\n",
       "      <td id=\"T_69f4c_row1_col6\" class=\"data row1 col6\" >0.0216</td>\n",
       "      <td id=\"T_69f4c_row1_col7\" class=\"data row1 col7\" >2.1920</td>\n",
       "    </tr>\n",
       "    <tr>\n",
       "      <th id=\"T_69f4c_level0_row2\" class=\"row_heading level0 row2\" >rf</th>\n",
       "      <td id=\"T_69f4c_row2_col0\" class=\"data row2 col0\" >Random Forest Regressor</td>\n",
       "      <td id=\"T_69f4c_row2_col1\" class=\"data row2 col1\" >44.8121</td>\n",
       "      <td id=\"T_69f4c_row2_col2\" class=\"data row2 col2\" >6123.6243</td>\n",
       "      <td id=\"T_69f4c_row2_col3\" class=\"data row2 col3\" >68.0154</td>\n",
       "      <td id=\"T_69f4c_row2_col4\" class=\"data row2 col4\" >0.7400</td>\n",
       "      <td id=\"T_69f4c_row2_col5\" class=\"data row2 col5\" >0.0698</td>\n",
       "      <td id=\"T_69f4c_row2_col6\" class=\"data row2 col6\" >0.0474</td>\n",
       "      <td id=\"T_69f4c_row2_col7\" class=\"data row2 col7\" >2.6580</td>\n",
       "    </tr>\n",
       "    <tr>\n",
       "      <th id=\"T_69f4c_level0_row3\" class=\"row_heading level0 row3\" >dt</th>\n",
       "      <td id=\"T_69f4c_row3_col0\" class=\"data row3 col0\" >Decision Tree Regressor</td>\n",
       "      <td id=\"T_69f4c_row3_col1\" class=\"data row3 col1\" >24.9742</td>\n",
       "      <td id=\"T_69f4c_row3_col2\" class=\"data row3 col2\" >8711.3720</td>\n",
       "      <td id=\"T_69f4c_row3_col3\" class=\"data row3 col3\" >68.3578</td>\n",
       "      <td id=\"T_69f4c_row3_col4\" class=\"data row3 col4\" >0.6573</td>\n",
       "      <td id=\"T_69f4c_row3_col5\" class=\"data row3 col5\" >0.0675</td>\n",
       "      <td id=\"T_69f4c_row3_col6\" class=\"data row3 col6\" >0.0243</td>\n",
       "      <td id=\"T_69f4c_row3_col7\" class=\"data row3 col7\" >0.8730</td>\n",
       "    </tr>\n",
       "    <tr>\n",
       "      <th id=\"T_69f4c_level0_row4\" class=\"row_heading level0 row4\" >lightgbm</th>\n",
       "      <td id=\"T_69f4c_row4_col0\" class=\"data row4 col0\" >Light Gradient Boosting Machine</td>\n",
       "      <td id=\"T_69f4c_row4_col1\" class=\"data row4 col1\" >72.6684</td>\n",
       "      <td id=\"T_69f4c_row4_col2\" class=\"data row4 col2\" >11163.2885</td>\n",
       "      <td id=\"T_69f4c_row4_col3\" class=\"data row4 col3\" >101.3084</td>\n",
       "      <td id=\"T_69f4c_row4_col4\" class=\"data row4 col4\" >0.3870</td>\n",
       "      <td id=\"T_69f4c_row4_col5\" class=\"data row4 col5\" >0.1051</td>\n",
       "      <td id=\"T_69f4c_row4_col6\" class=\"data row4 col6\" >0.0785</td>\n",
       "      <td id=\"T_69f4c_row4_col7\" class=\"data row4 col7\" >1.8690</td>\n",
       "    </tr>\n",
       "  </tbody>\n",
       "</table>\n"
      ],
      "text/plain": [
       "<pandas.io.formats.style.Styler at 0x222901fb130>"
      ]
     },
     "metadata": {},
     "output_type": "display_data"
    },
    {
     "data": {
      "application/vnd.jupyter.widget-view+json": {
       "model_id": "",
       "version_major": 2,
       "version_minor": 0
      },
      "text/plain": [
       "Processing:   0%|          | 0/25 [00:00<?, ?it/s]"
      ]
     },
     "metadata": {},
     "output_type": "display_data"
    }
   ],
   "source": [
    "# Comparer les modèles de régression spécifiés dans la liste include\n",
    "# Retourner le meilleur modèle selon la métrique R2\n",
    "best_model = compare_models(include=['gbr','dt','et','rf','lightgbm'])\n"
   ]
  },
  {
   "cell_type": "markdown",
   "metadata": {},
   "source": [
    "### Afficher le meilleur modèle"
   ]
  },
  {
   "cell_type": "code",
   "execution_count": null,
   "metadata": {},
   "outputs": [
    {
     "name": "stdout",
     "output_type": "stream",
     "text": [
      "GradientBoostingRegressor(random_state=362)\n"
     ]
    }
   ],
   "source": [
    "# Afficher les informations du meilleur modèle\n",
    "print(best_model)\n"
   ]
  },
  {
   "cell_type": "markdown",
   "metadata": {},
   "source": [
    "### Quelques plots du meilleur modèle"
   ]
  },
  {
   "cell_type": "code",
   "execution_count": null,
   "metadata": {},
   "outputs": [
    {
     "data": {
      "text/html": [],
      "text/plain": [
       "<IPython.core.display.HTML object>"
      ]
     },
     "metadata": {},
     "output_type": "display_data"
    },
    {
     "data": {
      "image/png": "[encoded data removed]",
      "text/plain": [
       "<Figure size 800x550 with 2 Axes>"
      ]
     },
     "metadata": {},
     "output_type": "display_data"
    }
   ],
   "source": [
    "# Afficher le graphique des résidus du meilleur modèle\n",
    "plot_model(best_model,plot=\"residuals\")\n"
   ]
  },
  {
   "cell_type": "code",
   "execution_count": null,
   "metadata": {},
   "outputs": [
    {
     "data": {
      "text/html": [],
      "text/plain": [
       "<IPython.core.display.HTML object>"
      ]
     },
     "metadata": {},
     "output_type": "display_data"
    },
    {
     "data": {
      "image/png": "[encoded data removed]",
      "text/plain": [
       "<Figure size 800x550 with 1 Axes>"
      ]
     },
     "metadata": {},
     "output_type": "display_data"
    }
   ],
   "source": [
    "# Afficher le graphique de l'erreur du meilleur modèle\n",
    "plot_model(best_model,plot=\"error\")\n"
   ]
  },
  {
   "cell_type": "code",
   "execution_count": null,
   "metadata": {},
   "outputs": [
    {
     "data": {
      "text/html": [],
      "text/plain": [
       "<IPython.core.display.HTML object>"
      ]
     },
     "metadata": {},
     "output_type": "display_data"
    },
    {
     "data": {
      "image/png": "[encoded data removed]",
      "text/plain": [
       "<Figure size 800x500 with 1 Axes>"
      ]
     },
     "metadata": {},
     "output_type": "display_data"
    }
   ],
   "source": [
    "# Afficher le graphique de l'importance des variables du meilleur modèle\n",
    "plot_model(best_model,plot=\"feature\")\n"
   ]
  },
  {
   "cell_type": "markdown",
   "metadata": {},
   "source": [
    "### Création du modèle avec gbr"
   ]
  },
  {
   "cell_type": "code",
   "execution_count": null,
   "metadata": {},
   "outputs": [
    {
     "data": {
      "text/html": [],
      "text/plain": [
       "<IPython.core.display.HTML object>"
      ]
     },
     "metadata": {},
     "output_type": "display_data"
    },
    {
     "data": {
      "text/html": [
       "<style type=\"text/css\">\n",
       "#T_f76e2_row10_col0, #T_f76e2_row10_col1, #T_f76e2_row10_col2, #T_f76e2_row10_col3, #T_f76e2_row10_col4, #T_f76e2_row10_col5 {\n",
       "  background: yellow;\n",
       "}\n",
       "</style>\n",
       "<table id=\"T_f76e2\">\n",
       "  <thead>\n",
       "    <tr>\n",
       "      <th class=\"blank level0\" >&nbsp;</th>\n",
       "      <th id=\"T_f76e2_level0_col0\" class=\"col_heading level0 col0\" >MAE</th>\n",
       "      <th id=\"T_f76e2_level0_col1\" class=\"col_heading level0 col1\" >MSE</th>\n",
       "      <th id=\"T_f76e2_level0_col2\" class=\"col_heading level0 col2\" >RMSE</th>\n",
       "      <th id=\"T_f76e2_level0_col3\" class=\"col_heading level0 col3\" >R2</th>\n",
       "      <th id=\"T_f76e2_level0_col4\" class=\"col_heading level0 col4\" >RMSLE</th>\n",
       "      <th id=\"T_f76e2_level0_col5\" class=\"col_heading level0 col5\" >MAPE</th>\n",
       "    </tr>\n",
       "    <tr>\n",
       "      <th class=\"index_name level0\" >Fold</th>\n",
       "      <th class=\"blank col0\" >&nbsp;</th>\n",
       "      <th class=\"blank col1\" >&nbsp;</th>\n",
       "      <th class=\"blank col2\" >&nbsp;</th>\n",
       "      <th class=\"blank col3\" >&nbsp;</th>\n",
       "      <th class=\"blank col4\" >&nbsp;</th>\n",
       "      <th class=\"blank col5\" >&nbsp;</th>\n",
       "    </tr>\n",
       "  </thead>\n",
       "  <tbody>\n",
       "    <tr>\n",
       "      <th id=\"T_f76e2_level0_row0\" class=\"row_heading level0 row0\" >0</th>\n",
       "      <td id=\"T_f76e2_row0_col0\" class=\"data row0 col0\" >111.9709</td>\n",
       "      <td id=\"T_f76e2_row0_col1\" class=\"data row0 col1\" >37500.0788</td>\n",
       "      <td id=\"T_f76e2_row0_col2\" class=\"data row0 col2\" >193.6494</td>\n",
       "      <td id=\"T_f76e2_row0_col3\" class=\"data row0 col3\" >0.1559</td>\n",
       "      <td id=\"T_f76e2_row0_col4\" class=\"data row0 col4\" >0.1835</td>\n",
       "      <td id=\"T_f76e2_row0_col5\" class=\"data row0 col5\" >0.0936</td>\n",
       "    </tr>\n",
       "    <tr>\n",
       "      <th id=\"T_f76e2_level0_row1\" class=\"row_heading level0 row1\" >1</th>\n",
       "      <td id=\"T_f76e2_row1_col0\" class=\"data row1 col0\" >12.0335</td>\n",
       "      <td id=\"T_f76e2_row1_col1\" class=\"data row1 col1\" >310.5522</td>\n",
       "      <td id=\"T_f76e2_row1_col2\" class=\"data row1 col2\" >17.6225</td>\n",
       "      <td id=\"T_f76e2_row1_col3\" class=\"data row1 col3\" >0.9696</td>\n",
       "      <td id=\"T_f76e2_row1_col4\" class=\"data row1 col4\" >0.0223</td>\n",
       "      <td id=\"T_f76e2_row1_col5\" class=\"data row1 col5\" >0.0149</td>\n",
       "    </tr>\n",
       "    <tr>\n",
       "      <th id=\"T_f76e2_level0_row2\" class=\"row_heading level0 row2\" >2</th>\n",
       "      <td id=\"T_f76e2_row2_col0\" class=\"data row2 col0\" >19.1373</td>\n",
       "      <td id=\"T_f76e2_row2_col1\" class=\"data row2 col1\" >1894.9708</td>\n",
       "      <td id=\"T_f76e2_row2_col2\" class=\"data row2 col2\" >43.5313</td>\n",
       "      <td id=\"T_f76e2_row2_col3\" class=\"data row2 col3\" >0.9436</td>\n",
       "      <td id=\"T_f76e2_row2_col4\" class=\"data row2 col4\" >0.0453</td>\n",
       "      <td id=\"T_f76e2_row2_col5\" class=\"data row2 col5\" >0.0221</td>\n",
       "    </tr>\n",
       "    <tr>\n",
       "      <th id=\"T_f76e2_level0_row3\" class=\"row_heading level0 row3\" >3</th>\n",
       "      <td id=\"T_f76e2_row3_col0\" class=\"data row3 col0\" >9.1652</td>\n",
       "      <td id=\"T_f76e2_row3_col1\" class=\"data row3 col1\" >345.5554</td>\n",
       "      <td id=\"T_f76e2_row3_col2\" class=\"data row3 col2\" >18.5891</td>\n",
       "      <td id=\"T_f76e2_row3_col3\" class=\"data row3 col3\" >0.9865</td>\n",
       "      <td id=\"T_f76e2_row3_col4\" class=\"data row3 col4\" >0.0177</td>\n",
       "      <td id=\"T_f76e2_row3_col5\" class=\"data row3 col5\" >0.0103</td>\n",
       "    </tr>\n",
       "    <tr>\n",
       "      <th id=\"T_f76e2_level0_row4\" class=\"row_heading level0 row4\" >4</th>\n",
       "      <td id=\"T_f76e2_row4_col0\" class=\"data row4 col0\" >35.0029</td>\n",
       "      <td id=\"T_f76e2_row4_col1\" class=\"data row4 col1\" >9038.8740</td>\n",
       "      <td id=\"T_f76e2_row4_col2\" class=\"data row4 col2\" >95.0730</td>\n",
       "      <td id=\"T_f76e2_row4_col3\" class=\"data row4 col3\" >0.6866</td>\n",
       "      <td id=\"T_f76e2_row4_col4\" class=\"data row4 col4\" >0.1029</td>\n",
       "      <td id=\"T_f76e2_row4_col5\" class=\"data row4 col5\" >0.0431</td>\n",
       "    </tr>\n",
       "    <tr>\n",
       "      <th id=\"T_f76e2_level0_row5\" class=\"row_heading level0 row5\" >5</th>\n",
       "      <td id=\"T_f76e2_row5_col0\" class=\"data row5 col0\" >28.1458</td>\n",
       "      <td id=\"T_f76e2_row5_col1\" class=\"data row5 col1\" >2907.5301</td>\n",
       "      <td id=\"T_f76e2_row5_col2\" class=\"data row5 col2\" >53.9215</td>\n",
       "      <td id=\"T_f76e2_row5_col3\" class=\"data row5 col3\" >0.7072</td>\n",
       "      <td id=\"T_f76e2_row5_col4\" class=\"data row5 col4\" >0.0573</td>\n",
       "      <td id=\"T_f76e2_row5_col5\" class=\"data row5 col5\" >0.0329</td>\n",
       "    </tr>\n",
       "    <tr>\n",
       "      <th id=\"T_f76e2_level0_row6\" class=\"row_heading level0 row6\" >6</th>\n",
       "      <td id=\"T_f76e2_row6_col0\" class=\"data row6 col0\" >44.7899</td>\n",
       "      <td id=\"T_f76e2_row6_col1\" class=\"data row6 col1\" >10583.4121</td>\n",
       "      <td id=\"T_f76e2_row6_col2\" class=\"data row6 col2\" >102.8757</td>\n",
       "      <td id=\"T_f76e2_row6_col3\" class=\"data row6 col3\" >0.6717</td>\n",
       "      <td id=\"T_f76e2_row6_col4\" class=\"data row6 col4\" >0.0922</td>\n",
       "      <td id=\"T_f76e2_row6_col5\" class=\"data row6 col5\" >0.0389</td>\n",
       "    </tr>\n",
       "    <tr>\n",
       "      <th id=\"T_f76e2_level0_row7\" class=\"row_heading level0 row7\" >7</th>\n",
       "      <td id=\"T_f76e2_row7_col0\" class=\"data row7 col0\" >9.8418</td>\n",
       "      <td id=\"T_f76e2_row7_col1\" class=\"data row7 col1\" >114.6718</td>\n",
       "      <td id=\"T_f76e2_row7_col2\" class=\"data row7 col2\" >10.7085</td>\n",
       "      <td id=\"T_f76e2_row7_col3\" class=\"data row7 col3\" >0.9851</td>\n",
       "      <td id=\"T_f76e2_row7_col4\" class=\"data row7 col4\" >0.0144</td>\n",
       "      <td id=\"T_f76e2_row7_col5\" class=\"data row7 col5\" >0.0131</td>\n",
       "    </tr>\n",
       "    <tr>\n",
       "      <th id=\"T_f76e2_level0_row8\" class=\"row_heading level0 row8\" >8</th>\n",
       "      <td id=\"T_f76e2_row8_col0\" class=\"data row8 col0\" >10.3408</td>\n",
       "      <td id=\"T_f76e2_row8_col1\" class=\"data row8 col1\" >194.3844</td>\n",
       "      <td id=\"T_f76e2_row8_col2\" class=\"data row8 col2\" >13.9422</td>\n",
       "      <td id=\"T_f76e2_row8_col3\" class=\"data row8 col3\" >0.9847</td>\n",
       "      <td id=\"T_f76e2_row8_col4\" class=\"data row8 col4\" >0.0173</td>\n",
       "      <td id=\"T_f76e2_row8_col5\" class=\"data row8 col5\" >0.0130</td>\n",
       "    </tr>\n",
       "    <tr>\n",
       "      <th id=\"T_f76e2_level0_row9\" class=\"row_heading level0 row9\" >9</th>\n",
       "      <td id=\"T_f76e2_row9_col0\" class=\"data row9 col0\" >22.3649</td>\n",
       "      <td id=\"T_f76e2_row9_col1\" class=\"data row9 col1\" >1296.5991</td>\n",
       "      <td id=\"T_f76e2_row9_col2\" class=\"data row9 col2\" >36.0083</td>\n",
       "      <td id=\"T_f76e2_row9_col3\" class=\"data row9 col3\" >0.9195</td>\n",
       "      <td id=\"T_f76e2_row9_col4\" class=\"data row9 col4\" >0.0419</td>\n",
       "      <td id=\"T_f76e2_row9_col5\" class=\"data row9 col5\" >0.0248</td>\n",
       "    </tr>\n",
       "    <tr>\n",
       "      <th id=\"T_f76e2_level0_row10\" class=\"row_heading level0 row10\" >Mean</th>\n",
       "      <td id=\"T_f76e2_row10_col0\" class=\"data row10 col0\" >30.2793</td>\n",
       "      <td id=\"T_f76e2_row10_col1\" class=\"data row10 col1\" >6418.6629</td>\n",
       "      <td id=\"T_f76e2_row10_col2\" class=\"data row10 col2\" >58.5921</td>\n",
       "      <td id=\"T_f76e2_row10_col3\" class=\"data row10 col3\" >0.8011</td>\n",
       "      <td id=\"T_f76e2_row10_col4\" class=\"data row10 col4\" >0.0595</td>\n",
       "      <td id=\"T_f76e2_row10_col5\" class=\"data row10 col5\" >0.0307</td>\n",
       "    </tr>\n",
       "    <tr>\n",
       "      <th id=\"T_f76e2_level0_row11\" class=\"row_heading level0 row11\" >Std</th>\n",
       "      <td id=\"T_f76e2_row11_col0\" class=\"data row11 col0\" >29.4816</td>\n",
       "      <td id=\"T_f76e2_row11_col1\" class=\"data row11 col1\" >10963.4212</td>\n",
       "      <td id=\"T_f76e2_row11_col2\" class=\"data row11 col2\" >54.6409</td>\n",
       "      <td id=\"T_f76e2_row11_col3\" class=\"data row11 col3\" >0.2489</td>\n",
       "      <td id=\"T_f76e2_row11_col4\" class=\"data row11 col4\" >0.0508</td>\n",
       "      <td id=\"T_f76e2_row11_col5\" class=\"data row11 col5\" >0.0236</td>\n",
       "    </tr>\n",
       "  </tbody>\n",
       "</table>\n"
      ],
      "text/plain": [
       "<pandas.io.formats.style.Styler at 0x2228879d9c0>"
      ]
     },
     "metadata": {},
     "output_type": "display_data"
    },
    {
     "data": {
      "application/vnd.jupyter.widget-view+json": {
       "model_id": "",
       "version_major": 2,
       "version_minor": 0
      },
      "text/plain": [
       "Processing:   0%|          | 0/4 [00:00<?, ?it/s]"
      ]
     },
     "metadata": {},
     "output_type": "display_data"
    }
   ],
   "source": [
    "# Créer un modèle de régression avec le gradient boosting\n",
    "lr = create_model(\"gbr\")\n"
   ]
  },
  {
   "cell_type": "markdown",
   "metadata": {},
   "source": [
    "### optimisation du modèle avec optuna"
   ]
  },
  {
   "cell_type": "code",
   "execution_count": null,
   "metadata": {},
   "outputs": [
    {
     "data": {
      "text/html": [],
      "text/plain": [
       "<IPython.core.display.HTML object>"
      ]
     },
     "metadata": {},
     "output_type": "display_data"
    },
    {
     "data": {
      "text/html": [
       "<style type=\"text/css\">\n",
       "#T_315eb_row10_col0, #T_315eb_row10_col1, #T_315eb_row10_col2, #T_315eb_row10_col3, #T_315eb_row10_col4, #T_315eb_row10_col5 {\n",
       "  background: yellow;\n",
       "}\n",
       "</style>\n",
       "<table id=\"T_315eb\">\n",
       "  <thead>\n",
       "    <tr>\n",
       "      <th class=\"blank level0\" >&nbsp;</th>\n",
       "      <th id=\"T_315eb_level0_col0\" class=\"col_heading level0 col0\" >MAE</th>\n",
       "      <th id=\"T_315eb_level0_col1\" class=\"col_heading level0 col1\" >MSE</th>\n",
       "      <th id=\"T_315eb_level0_col2\" class=\"col_heading level0 col2\" >RMSE</th>\n",
       "      <th id=\"T_315eb_level0_col3\" class=\"col_heading level0 col3\" >R2</th>\n",
       "      <th id=\"T_315eb_level0_col4\" class=\"col_heading level0 col4\" >RMSLE</th>\n",
       "      <th id=\"T_315eb_level0_col5\" class=\"col_heading level0 col5\" >MAPE</th>\n",
       "    </tr>\n",
       "    <tr>\n",
       "      <th class=\"index_name level0\" >Fold</th>\n",
       "      <th class=\"blank col0\" >&nbsp;</th>\n",
       "      <th class=\"blank col1\" >&nbsp;</th>\n",
       "      <th class=\"blank col2\" >&nbsp;</th>\n",
       "      <th class=\"blank col3\" >&nbsp;</th>\n",
       "      <th class=\"blank col4\" >&nbsp;</th>\n",
       "      <th class=\"blank col5\" >&nbsp;</th>\n",
       "    </tr>\n",
       "  </thead>\n",
       "  <tbody>\n",
       "    <tr>\n",
       "      <th id=\"T_315eb_level0_row0\" class=\"row_heading level0 row0\" >0</th>\n",
       "      <td id=\"T_315eb_row0_col0\" class=\"data row0 col0\" >102.1780</td>\n",
       "      <td id=\"T_315eb_row0_col1\" class=\"data row0 col1\" >35552.0608</td>\n",
       "      <td id=\"T_315eb_row0_col2\" class=\"data row0 col2\" >188.5525</td>\n",
       "      <td id=\"T_315eb_row0_col3\" class=\"data row0 col3\" >0.1997</td>\n",
       "      <td id=\"T_315eb_row0_col4\" class=\"data row0 col4\" >0.1768</td>\n",
       "      <td id=\"T_315eb_row0_col5\" class=\"data row0 col5\" >0.0828</td>\n",
       "    </tr>\n",
       "    <tr>\n",
       "      <th id=\"T_315eb_level0_row1\" class=\"row_heading level0 row1\" >1</th>\n",
       "      <td id=\"T_315eb_row1_col0\" class=\"data row1 col0\" >1.5043</td>\n",
       "      <td id=\"T_315eb_row1_col1\" class=\"data row1 col1\" >24.0357</td>\n",
       "      <td id=\"T_315eb_row1_col2\" class=\"data row1 col2\" >4.9026</td>\n",
       "      <td id=\"T_315eb_row1_col3\" class=\"data row1 col3\" >0.9977</td>\n",
       "      <td id=\"T_315eb_row1_col4\" class=\"data row1 col4\" >0.0066</td>\n",
       "      <td id=\"T_315eb_row1_col5\" class=\"data row1 col5\" >0.0020</td>\n",
       "    </tr>\n",
       "    <tr>\n",
       "      <th id=\"T_315eb_level0_row2\" class=\"row_heading level0 row2\" >2</th>\n",
       "      <td id=\"T_315eb_row2_col0\" class=\"data row2 col0\" >15.6546</td>\n",
       "      <td id=\"T_315eb_row2_col1\" class=\"data row2 col1\" >2878.1556</td>\n",
       "      <td id=\"T_315eb_row2_col2\" class=\"data row2 col2\" >53.6484</td>\n",
       "      <td id=\"T_315eb_row2_col3\" class=\"data row2 col3\" >0.9144</td>\n",
       "      <td id=\"T_315eb_row2_col4\" class=\"data row2 col4\" >0.0544</td>\n",
       "      <td id=\"T_315eb_row2_col5\" class=\"data row2 col5\" >0.0175</td>\n",
       "    </tr>\n",
       "    <tr>\n",
       "      <th id=\"T_315eb_level0_row3\" class=\"row_heading level0 row3\" >3</th>\n",
       "      <td id=\"T_315eb_row3_col0\" class=\"data row3 col0\" >0.0640</td>\n",
       "      <td id=\"T_315eb_row3_col1\" class=\"data row3 col1\" >0.0272</td>\n",
       "      <td id=\"T_315eb_row3_col2\" class=\"data row3 col2\" >0.1649</td>\n",
       "      <td id=\"T_315eb_row3_col3\" class=\"data row3 col3\" >1.0000</td>\n",
       "      <td id=\"T_315eb_row3_col4\" class=\"data row3 col4\" >0.0001</td>\n",
       "      <td id=\"T_315eb_row3_col5\" class=\"data row3 col5\" >0.0001</td>\n",
       "    </tr>\n",
       "    <tr>\n",
       "      <th id=\"T_315eb_level0_row4\" class=\"row_heading level0 row4\" >4</th>\n",
       "      <td id=\"T_315eb_row4_col0\" class=\"data row4 col0\" >16.8003</td>\n",
       "      <td id=\"T_315eb_row4_col1\" class=\"data row4 col1\" >3299.7571</td>\n",
       "      <td id=\"T_315eb_row4_col2\" class=\"data row4 col2\" >57.4435</td>\n",
       "      <td id=\"T_315eb_row4_col3\" class=\"data row4 col3\" >0.8856</td>\n",
       "      <td id=\"T_315eb_row4_col4\" class=\"data row4 col4\" >0.0664</td>\n",
       "      <td id=\"T_315eb_row4_col5\" class=\"data row4 col5\" >0.0218</td>\n",
       "    </tr>\n",
       "    <tr>\n",
       "      <th id=\"T_315eb_level0_row5\" class=\"row_heading level0 row5\" >5</th>\n",
       "      <td id=\"T_315eb_row5_col0\" class=\"data row5 col0\" >39.2856</td>\n",
       "      <td id=\"T_315eb_row5_col1\" class=\"data row5 col1\" >9111.6890</td>\n",
       "      <td id=\"T_315eb_row5_col2\" class=\"data row5 col2\" >95.4552</td>\n",
       "      <td id=\"T_315eb_row5_col3\" class=\"data row5 col3\" >0.0825</td>\n",
       "      <td id=\"T_315eb_row5_col4\" class=\"data row5 col4\" >0.0960</td>\n",
       "      <td id=\"T_315eb_row5_col5\" class=\"data row5 col5\" >0.0446</td>\n",
       "    </tr>\n",
       "    <tr>\n",
       "      <th id=\"T_315eb_level0_row6\" class=\"row_heading level0 row6\" >6</th>\n",
       "      <td id=\"T_315eb_row6_col0\" class=\"data row6 col0\" >18.9026</td>\n",
       "      <td id=\"T_315eb_row6_col1\" class=\"data row6 col1\" >4269.7927</td>\n",
       "      <td id=\"T_315eb_row6_col2\" class=\"data row6 col2\" >65.3437</td>\n",
       "      <td id=\"T_315eb_row6_col3\" class=\"data row6 col3\" >0.8676</td>\n",
       "      <td id=\"T_315eb_row6_col4\" class=\"data row6 col4\" >0.0551</td>\n",
       "      <td id=\"T_315eb_row6_col5\" class=\"data row6 col5\" >0.0145</td>\n",
       "    </tr>\n",
       "    <tr>\n",
       "      <th id=\"T_315eb_level0_row7\" class=\"row_heading level0 row7\" >7</th>\n",
       "      <td id=\"T_315eb_row7_col0\" class=\"data row7 col0\" >0.1795</td>\n",
       "      <td id=\"T_315eb_row7_col1\" class=\"data row7 col1\" >0.0976</td>\n",
       "      <td id=\"T_315eb_row7_col2\" class=\"data row7 col2\" >0.3125</td>\n",
       "      <td id=\"T_315eb_row7_col3\" class=\"data row7 col3\" >1.0000</td>\n",
       "      <td id=\"T_315eb_row7_col4\" class=\"data row7 col4\" >0.0004</td>\n",
       "      <td id=\"T_315eb_row7_col5\" class=\"data row7 col5\" >0.0002</td>\n",
       "    </tr>\n",
       "    <tr>\n",
       "      <th id=\"T_315eb_level0_row8\" class=\"row_heading level0 row8\" >8</th>\n",
       "      <td id=\"T_315eb_row8_col0\" class=\"data row8 col0\" >0.0564</td>\n",
       "      <td id=\"T_315eb_row8_col1\" class=\"data row8 col1\" >0.0052</td>\n",
       "      <td id=\"T_315eb_row8_col2\" class=\"data row8 col2\" >0.0723</td>\n",
       "      <td id=\"T_315eb_row8_col3\" class=\"data row8 col3\" >1.0000</td>\n",
       "      <td id=\"T_315eb_row8_col4\" class=\"data row8 col4\" >0.0001</td>\n",
       "      <td id=\"T_315eb_row8_col5\" class=\"data row8 col5\" >0.0001</td>\n",
       "    </tr>\n",
       "    <tr>\n",
       "      <th id=\"T_315eb_level0_row9\" class=\"row_heading level0 row9\" >9</th>\n",
       "      <td id=\"T_315eb_row9_col0\" class=\"data row9 col0\" >23.8445</td>\n",
       "      <td id=\"T_315eb_row9_col1\" class=\"data row9 col1\" >2701.0275</td>\n",
       "      <td id=\"T_315eb_row9_col2\" class=\"data row9 col2\" >51.9714</td>\n",
       "      <td id=\"T_315eb_row9_col3\" class=\"data row9 col3\" >0.8322</td>\n",
       "      <td id=\"T_315eb_row9_col4\" class=\"data row9 col4\" >0.0620</td>\n",
       "      <td id=\"T_315eb_row9_col5\" class=\"data row9 col5\" >0.0262</td>\n",
       "    </tr>\n",
       "    <tr>\n",
       "      <th id=\"T_315eb_level0_row10\" class=\"row_heading level0 row10\" >Mean</th>\n",
       "      <td id=\"T_315eb_row10_col0\" class=\"data row10 col0\" >21.8470</td>\n",
       "      <td id=\"T_315eb_row10_col1\" class=\"data row10 col1\" >5783.6649</td>\n",
       "      <td id=\"T_315eb_row10_col2\" class=\"data row10 col2\" >51.7867</td>\n",
       "      <td id=\"T_315eb_row10_col3\" class=\"data row10 col3\" >0.7780</td>\n",
       "      <td id=\"T_315eb_row10_col4\" class=\"data row10 col4\" >0.0518</td>\n",
       "      <td id=\"T_315eb_row10_col5\" class=\"data row10 col5\" >0.0210</td>\n",
       "    </tr>\n",
       "    <tr>\n",
       "      <th id=\"T_315eb_level0_row11\" class=\"row_heading level0 row11\" >Std</th>\n",
       "      <td id=\"T_315eb_row11_col0\" class=\"data row11 col0\" >29.4385</td>\n",
       "      <td id=\"T_315eb_row11_col1\" class=\"data row11 col1\" >10281.8459</td>\n",
       "      <td id=\"T_315eb_row11_col2\" class=\"data row11 col2\" >55.6938</td>\n",
       "      <td id=\"T_315eb_row11_col3\" class=\"data row11 col3\" >0.3249</td>\n",
       "      <td id=\"T_315eb_row11_col4\" class=\"data row11 col4\" >0.0529</td>\n",
       "      <td id=\"T_315eb_row11_col5\" class=\"data row11 col5\" >0.0247</td>\n",
       "    </tr>\n",
       "  </tbody>\n",
       "</table>\n"
      ],
      "text/plain": [
       "<pandas.io.formats.style.Styler at 0x2228d845900>"
      ]
     },
     "metadata": {},
     "output_type": "display_data"
    },
    {
     "data": {
      "application/vnd.jupyter.widget-view+json": {
       "model_id": "",
       "version_major": 2,
       "version_minor": 0
      },
      "text/plain": [
       "Processing:   0%|          | 0/7 [00:00<?, ?it/s]"
      ]
     },
     "metadata": {},
     "output_type": "display_data"
    },
    {
     "name": "stderr",
     "output_type": "stream",
     "text": [
      "[I 2023-07-06 06:34:57,022] Searching the best hyperparameters using 118 samples...\n",
      "[I 2023-07-06 06:38:02,335] Finished hyperparemeter search!\n"
     ]
    },
    {
     "name": "stdout",
     "output_type": "stream",
     "text": [
      "Original model was better than the tuned model, hence it will be returned. NOTE: The display metrics are for the tuned model (not the original one).\n"
     ]
    }
   ],
   "source": [
    "# Affiner le modèle de régression avec le gradient boosting\n",
    "# Utiliser la bibliothèque optuna pour la recherche des hyperparamètres\n",
    "tune_gbr =tune_model(lr,search_library =\"optuna\")\n"
   ]
  },
  {
   "cell_type": "markdown",
   "metadata": {},
   "source": [
    "### Entrainement du modèle"
   ]
  },
  {
   "cell_type": "code",
   "execution_count": null,
   "metadata": {},
   "outputs": [
    {
     "data": {
      "text/html": [
       "<div>\n",
       "<style scoped>\n",
       "    .dataframe tbody tr th:only-of-type {\n",
       "        vertical-align: middle;\n",
       "    }\n",
       "\n",
       "    .dataframe tbody tr th {\n",
       "        vertical-align: top;\n",
       "    }\n",
       "\n",
       "    .dataframe thead th {\n",
       "        text-align: right;\n",
       "    }\n",
       "</style>\n",
       "<table border=\"1\" class=\"dataframe\">\n",
       "  <thead>\n",
       "    <tr style=\"text-align: right;\">\n",
       "      <th></th>\n",
       "      <th>Number_billion_miles</th>\n",
       "      <th>Percentage_Speeding</th>\n",
       "      <th>Percentage_Alcohol</th>\n",
       "      <th>Percentage_Not_Distracted</th>\n",
       "      <th>Percentage_Accidents</th>\n",
       "      <th>Losses_insured_driver</th>\n",
       "    </tr>\n",
       "  </thead>\n",
       "  <tbody>\n",
       "    <tr>\n",
       "      <th>0</th>\n",
       "      <td>18.8</td>\n",
       "      <td>39</td>\n",
       "      <td>30</td>\n",
       "      <td>96</td>\n",
       "      <td>80</td>\n",
       "      <td>145.08</td>\n",
       "    </tr>\n",
       "    <tr>\n",
       "      <th>1</th>\n",
       "      <td>18.1</td>\n",
       "      <td>41</td>\n",
       "      <td>25</td>\n",
       "      <td>90</td>\n",
       "      <td>94</td>\n",
       "      <td>133.93</td>\n",
       "    </tr>\n",
       "    <tr>\n",
       "      <th>2</th>\n",
       "      <td>18.6</td>\n",
       "      <td>35</td>\n",
       "      <td>28</td>\n",
       "      <td>84</td>\n",
       "      <td>96</td>\n",
       "      <td>110.35</td>\n",
       "    </tr>\n",
       "    <tr>\n",
       "      <th>3</th>\n",
       "      <td>22.4</td>\n",
       "      <td>18</td>\n",
       "      <td>26</td>\n",
       "      <td>94</td>\n",
       "      <td>95</td>\n",
       "      <td>142.39</td>\n",
       "    </tr>\n",
       "    <tr>\n",
       "      <th>4</th>\n",
       "      <td>12.0</td>\n",
       "      <td>35</td>\n",
       "      <td>28</td>\n",
       "      <td>91</td>\n",
       "      <td>89</td>\n",
       "      <td>165.63</td>\n",
       "    </tr>\n",
       "    <tr>\n",
       "      <th>...</th>\n",
       "      <td>...</td>\n",
       "      <td>...</td>\n",
       "      <td>...</td>\n",
       "      <td>...</td>\n",
       "      <td>...</td>\n",
       "      <td>...</td>\n",
       "    </tr>\n",
       "    <tr>\n",
       "      <th>165</th>\n",
       "      <td>15.3</td>\n",
       "      <td>36</td>\n",
       "      <td>29</td>\n",
       "      <td>85</td>\n",
       "      <td>98</td>\n",
       "      <td>82.75</td>\n",
       "    </tr>\n",
       "    <tr>\n",
       "      <th>166</th>\n",
       "      <td>12.8</td>\n",
       "      <td>36</td>\n",
       "      <td>34</td>\n",
       "      <td>94</td>\n",
       "      <td>96</td>\n",
       "      <td>139.15</td>\n",
       "    </tr>\n",
       "    <tr>\n",
       "      <th>167</th>\n",
       "      <td>14.5</td>\n",
       "      <td>25</td>\n",
       "      <td>29</td>\n",
       "      <td>95</td>\n",
       "      <td>95</td>\n",
       "      <td>108.92</td>\n",
       "    </tr>\n",
       "    <tr>\n",
       "      <th>168</th>\n",
       "      <td>15.7</td>\n",
       "      <td>17</td>\n",
       "      <td>25</td>\n",
       "      <td>97</td>\n",
       "      <td>87</td>\n",
       "      <td>114.47</td>\n",
       "    </tr>\n",
       "    <tr>\n",
       "      <th>169</th>\n",
       "      <td>17.8</td>\n",
       "      <td>27</td>\n",
       "      <td>24</td>\n",
       "      <td>77</td>\n",
       "      <td>85</td>\n",
       "      <td>133.80</td>\n",
       "    </tr>\n",
       "  </tbody>\n",
       "</table>\n",
       "<p>170 rows × 6 columns</p>\n",
       "</div>"
      ],
      "text/plain": [
       "     Number_billion_miles  Percentage_Speeding  Percentage_Alcohol  \\\n",
       "0                    18.8                   39                  30   \n",
       "1                    18.1                   41                  25   \n",
       "2                    18.6                   35                  28   \n",
       "3                    22.4                   18                  26   \n",
       "4                    12.0                   35                  28   \n",
       "..                    ...                  ...                 ...   \n",
       "165                  15.3                   36                  29   \n",
       "166                  12.8                   36                  34   \n",
       "167                  14.5                   25                  29   \n",
       "168                  15.7                   17                  25   \n",
       "169                  17.8                   27                  24   \n",
       "\n",
       "     Percentage_Not_Distracted  Percentage_Accidents  Losses_insured_driver  \n",
       "0                           96                    80                 145.08  \n",
       "1                           90                    94                 133.93  \n",
       "2                           84                    96                 110.35  \n",
       "3                           94                    95                 142.39  \n",
       "4                           91                    89                 165.63  \n",
       "..                         ...                   ...                    ...  \n",
       "165                         85                    98                  82.75  \n",
       "166                         94                    96                 139.15  \n",
       "167                         95                    95                 108.92  \n",
       "168                         97                    87                 114.47  \n",
       "169                         77                    85                 133.80  \n",
       "\n",
       "[170 rows x 6 columns]"
      ]
     },
     "execution_count": 20,
     "metadata": {},
     "output_type": "execute_result"
    }
   ],
   "source": [
    "# Séparer les variables explicatives (X) et la variable cible (y)\n",
    "X = dataset.drop(['Car_Insurance_Premiums'],axis=1)\n",
    "y = dataset['Car_Insurance_Premiums']\n",
    "# Afficher les variables explicatives\n",
    "X\n"
   ]
  },
  {
   "cell_type": "code",
   "execution_count": null,
   "metadata": {},
   "outputs": [],
   "source": [
    "# Importer la fonction de division des données de sklearn\n",
    "from sklearn.model_selection import train_test_split\n",
    "# Diviser les données en ensemble d'apprentissage (80%) et de test (20%)\n",
    "# Utiliser un état aléatoire fixe pour la reproductibilité\n",
    "X_train, X_test, y_train, y_test = train_test_split(X, y, test_size=0.2, random_state=5)\n"
   ]
  },
  {
   "cell_type": "code",
   "execution_count": null,
   "metadata": {},
   "outputs": [
    {
     "data": {
      "text/html": [
       "<style>#sk-container-id-1 {color: black;background-color: white;}#sk-container-id-1 pre{padding: 0;}#sk-container-id-1 div.sk-toggleable {background-color: white;}#sk-container-id-1 label.sk-toggleable__label {cursor: pointer;display: block;width: 100%;margin-bottom: 0;padding: 0.3em;box-sizing: border-box;text-align: center;}#sk-container-id-1 label.sk-toggleable__label-arrow:before {content: \"▸\";float: left;margin-right: 0.25em;color: #696969;}#sk-container-id-1 label.sk-toggleable__label-arrow:hover:before {color: black;}#sk-container-id-1 div.sk-estimator:hover label.sk-toggleable__label-arrow:before {color: black;}#sk-container-id-1 div.sk-toggleable__content {max-height: 0;max-width: 0;overflow: hidden;text-align: left;background-color: #f0f8ff;}#sk-container-id-1 div.sk-toggleable__content pre {margin: 0.2em;color: black;border-radius: 0.25em;background-color: #f0f8ff;}#sk-container-id-1 input.sk-toggleable__control:checked~div.sk-toggleable__content {max-height: 200px;max-width: 100%;overflow: auto;}#sk-container-id-1 input.sk-toggleable__control:checked~label.sk-toggleable__label-arrow:before {content: \"▾\";}#sk-container-id-1 div.sk-estimator input.sk-toggleable__control:checked~label.sk-toggleable__label {background-color: #d4ebff;}#sk-container-id-1 div.sk-label input.sk-toggleable__control:checked~label.sk-toggleable__label {background-color: #d4ebff;}#sk-container-id-1 input.sk-hidden--visually {border: 0;clip: rect(1px 1px 1px 1px);clip: rect(1px, 1px, 1px, 1px);height: 1px;margin: -1px;overflow: hidden;padding: 0;position: absolute;width: 1px;}#sk-container-id-1 div.sk-estimator {font-family: monospace;background-color: #f0f8ff;border: 1px dotted black;border-radius: 0.25em;box-sizing: border-box;margin-bottom: 0.5em;}#sk-container-id-1 div.sk-estimator:hover {background-color: #d4ebff;}#sk-container-id-1 div.sk-parallel-item::after {content: \"\";width: 100%;border-bottom: 1px solid gray;flex-grow: 1;}#sk-container-id-1 div.sk-label:hover label.sk-toggleable__label {background-color: #d4ebff;}#sk-container-id-1 div.sk-serial::before {content: \"\";position: absolute;border-left: 1px solid gray;box-sizing: border-box;top: 0;bottom: 0;left: 50%;z-index: 0;}#sk-container-id-1 div.sk-serial {display: flex;flex-direction: column;align-items: center;background-color: white;padding-right: 0.2em;padding-left: 0.2em;position: relative;}#sk-container-id-1 div.sk-item {position: relative;z-index: 1;}#sk-container-id-1 div.sk-parallel {display: flex;align-items: stretch;justify-content: center;background-color: white;position: relative;}#sk-container-id-1 div.sk-item::before, #sk-container-id-1 div.sk-parallel-item::before {content: \"\";position: absolute;border-left: 1px solid gray;box-sizing: border-box;top: 0;bottom: 0;left: 50%;z-index: -1;}#sk-container-id-1 div.sk-parallel-item {display: flex;flex-direction: column;z-index: 1;position: relative;background-color: white;}#sk-container-id-1 div.sk-parallel-item:first-child::after {align-self: flex-end;width: 50%;}#sk-container-id-1 div.sk-parallel-item:last-child::after {align-self: flex-start;width: 50%;}#sk-container-id-1 div.sk-parallel-item:only-child::after {width: 0;}#sk-container-id-1 div.sk-dashed-wrapped {border: 1px dashed gray;margin: 0 0.4em 0.5em 0.4em;box-sizing: border-box;padding-bottom: 0.4em;background-color: white;}#sk-container-id-1 div.sk-label label {font-family: monospace;font-weight: bold;display: inline-block;line-height: 1.2em;}#sk-container-id-1 div.sk-label-container {text-align: center;}#sk-container-id-1 div.sk-container {/* jupyter's `normalize.less` sets `[hidden] { display: none; }` but bootstrap.min.css set `[hidden] { display: none !important; }` so we also need the `!important` here to be able to override the default hidden behavior on the sphinx rendered scikit-learn.org. See: https://github.com/scikit-learn/scikit-learn/issues/21755 */display: inline-block !important;position: relative;}#sk-container-id-1 div.sk-text-repr-fallback {display: none;}</style><div id=\"sk-container-id-1\" class=\"sk-top-container\"><div class=\"sk-text-repr-fallback\"><pre>GradientBoostingRegressor(random_state=362)</pre><b>In a Jupyter environment, please rerun this cell to show the HTML representation or trust the notebook. <br />On GitHub, the HTML representation is unable to render, please try loading this page with nbviewer.org.</b></div><div class=\"sk-container\" hidden><div class=\"sk-item\"><div class=\"sk-estimator sk-toggleable\"><input class=\"sk-toggleable__control sk-hidden--visually\" id=\"sk-estimator-id-1\" type=\"checkbox\" checked><label for=\"sk-estimator-id-1\" class=\"sk-toggleable__label sk-toggleable__label-arrow\">GradientBoostingRegressor</label><div class=\"sk-toggleable__content\"><pre>GradientBoostingRegressor(random_state=362)</pre></div></div></div></div></div>"
      ],
      "text/plain": [
       "GradientBoostingRegressor(random_state=362)"
      ]
     },
     "execution_count": 22,
     "metadata": {},
     "output_type": "execute_result"
    }
   ],
   "source": [
    "# Entraîner le modèle de régression avec le gradient boosting sur l'ensemble d'apprentissage\n",
    "lr.fit(X_train,y_train)\n"
   ]
  },
  {
   "cell_type": "code",
   "execution_count": null,
   "metadata": {},
   "outputs": [
    {
     "data": {
      "text/plain": [
       "array([ 900.12582808,  806.87473491,  649.75947352,  793.90060153,\n",
       "       1145.77430925, 1222.01091266,  888.36688411,  880.41863023,\n",
       "        714.2617156 , 1029.43955088,  899.86441333,  907.40231897,\n",
       "       1066.525231  ,  987.78836701,  654.59321407,  804.3333389 ,\n",
       "        908.9193802 ,  784.18372094, 1048.46802766,  713.01329082,\n",
       "        888.36688411,  793.90060153, 1048.46802766,  882.66125026,\n",
       "        817.44339542,  649.75947352, 1011.0184272 , 1001.40185633,\n",
       "        654.59321407,  665.77419913,  840.53073508,  654.59321407,\n",
       "        817.24489025,  747.26313703,  713.01329082,  812.5647885 ,\n",
       "        677.48415427, 1048.46802766,  689.58223443,  665.77419913,\n",
       "        817.44339542, 1133.86367171, 1271.92558322, 1045.56903944,\n",
       "       1107.65018781,  654.59321407,  899.86441333,  791.52585309,\n",
       "        670.28723701,  649.75947352,  817.44339542,  793.90060153,\n",
       "       1133.86367171, 1145.77430925,  871.94188038, 1001.40185633,\n",
       "        817.24489025,  806.87473491,  835.83033915,  812.5647885 ,\n",
       "       1222.01091266,  791.66470311,  817.44339542,  899.86441333,\n",
       "       1270.30831237,  713.01329082,  695.91184254, 1130.09546852,\n",
       "        791.52585309,  880.41863023,  871.94188038, 1133.86367171,\n",
       "        695.91184254, 1145.77430925,  710.78781684, 1001.40185633,\n",
       "        779.75599487, 1270.30831237,  695.91184254,  907.40231897,\n",
       "        714.2617156 ,  747.26313703,  880.41863023,  725.9482143 ,\n",
       "        840.53073508,  835.83033915,  882.66125026,  857.47167407,\n",
       "        779.75599487,  839.40046024,  857.47167407,  857.47167407,\n",
       "       1045.56903944, 1130.09546852, 1066.525231  ,  677.48415427,\n",
       "       1066.525231  , 1271.92558322,  888.36688411,  907.40231897,\n",
       "        860.93789892,  900.12582808,  871.94188038,  882.66125026,\n",
       "        835.83033915, 1270.30831237, 1296.21045291,  793.90060153,\n",
       "       1130.09546852,  839.40046024,  710.78781684, 1045.56903944,\n",
       "        725.9482143 ,  670.28723701,  882.66125026,  689.58223443,\n",
       "        665.77419913,  804.3333389 ,  782.31379417,  689.58223443,\n",
       "       1296.21045291,  710.78781684,  804.3333389 ,  725.9482143 ,\n",
       "        747.26313703,  857.47167407,  670.28723701, 1130.09546852,\n",
       "        839.40046024,  908.9193802 ,  900.12582808, 1270.30831237,\n",
       "       1107.65018781,  784.18372094,  779.75599487,  987.78836701])"
      ]
     },
     "execution_count": 23,
     "metadata": {},
     "output_type": "execute_result"
    }
   ],
   "source": [
    "# Prédire les valeurs de la variable cible sur l'ensemble d'apprentissage\n",
    "y_pred_train =lr.predict(X_train)\n",
    "# Afficher les valeurs prédites\n",
    "y_pred_train\n"
   ]
  },
  {
   "cell_type": "code",
   "execution_count": null,
   "metadata": {},
   "outputs": [
    {
     "data": {
      "text/plain": [
       "array([ 649.75947352,  835.83033915,  908.9193802 , 1271.92558322,\n",
       "        779.75599487,  710.78781684,  817.24489025, 1029.43955088,\n",
       "        791.52585309,  782.31379417,  812.5647885 ,  791.66470311,\n",
       "        900.12582808,  714.2617156 ,  839.40046024, 1296.21045291,\n",
       "       1222.01091266, 1045.56903944,  860.93789892, 1029.43955088,\n",
       "        784.18372094,  782.31379417, 1066.525231  ,  791.66470311,\n",
       "       1107.65018781,  860.93789892, 1011.0184272 ,  908.9193802 ,\n",
       "        987.78836701,  840.53073508,  677.48415427, 1133.86367171,\n",
       "       1011.0184272 ,  806.87473491])"
      ]
     },
     "execution_count": 24,
     "metadata": {},
     "output_type": "execute_result"
    }
   ],
   "source": [
    "# Prédire les valeurs de la variable cible sur l'ensemble de test\n",
    "y_pred_test =lr.predict(X_test)\n",
    "# Afficher les valeurs prédites\n",
    "y_pred_test\n"
   ]
  },
  {
   "cell_type": "markdown",
   "metadata": {},
   "source": [
    "### Metrics d'évaluation"
   ]
  },
  {
   "cell_type": "code",
   "execution_count": null,
   "metadata": {},
   "outputs": [
    {
     "name": "stdout",
     "output_type": "stream",
     "text": [
      "r2 du train :  0.9974767317931896\n",
      "mse du train :  79.7035494115826\n"
     ]
    }
   ],
   "source": [
    "# Importer les fonctions pour calculer les mesures d'évaluation\n",
    "from sklearn.metrics import mean_squared_error,r2_score\n",
    "\n",
    "# Calculer le coefficient de détermination (r2) sur les données d'entraînement\n",
    "r2_train = r2_score(y_train,y_pred_train)\n",
    "# Afficher le résultat\n",
    "print(\"r2 du train : \", r2_train)\n",
    "\n",
    "# Calculer l'erreur quadratique moyenne (mse) sur les données d'entraînement\n",
    "mse_train = mean_squared_error(y_train,y_pred_train)\n",
    "# Afficher le résultat\n",
    "print(\"mse du train : \",mse_train)\n"
   ]
  },
  {
   "cell_type": "code",
   "execution_count": null,
   "metadata": {},
   "outputs": [
    {
     "data": {
      "text/html": [
       "<style>#sk-container-id-2 {color: black;background-color: white;}#sk-container-id-2 pre{padding: 0;}#sk-container-id-2 div.sk-toggleable {background-color: white;}#sk-container-id-2 label.sk-toggleable__label {cursor: pointer;display: block;width: 100%;margin-bottom: 0;padding: 0.3em;box-sizing: border-box;text-align: center;}#sk-container-id-2 label.sk-toggleable__label-arrow:before {content: \"▸\";float: left;margin-right: 0.25em;color: #696969;}#sk-container-id-2 label.sk-toggleable__label-arrow:hover:before {color: black;}#sk-container-id-2 div.sk-estimator:hover label.sk-toggleable__label-arrow:before {color: black;}#sk-container-id-2 div.sk-toggleable__content {max-height: 0;max-width: 0;overflow: hidden;text-align: left;background-color: #f0f8ff;}#sk-container-id-2 div.sk-toggleable__content pre {margin: 0.2em;color: black;border-radius: 0.25em;background-color: #f0f8ff;}#sk-container-id-2 input.sk-toggleable__control:checked~div.sk-toggleable__content {max-height: 200px;max-width: 100%;overflow: auto;}#sk-container-id-2 input.sk-toggleable__control:checked~label.sk-toggleable__label-arrow:before {content: \"▾\";}#sk-container-id-2 div.sk-estimator input.sk-toggleable__control:checked~label.sk-toggleable__label {background-color: #d4ebff;}#sk-container-id-2 div.sk-label input.sk-toggleable__control:checked~label.sk-toggleable__label {background-color: #d4ebff;}#sk-container-id-2 input.sk-hidden--visually {border: 0;clip: rect(1px 1px 1px 1px);clip: rect(1px, 1px, 1px, 1px);height: 1px;margin: -1px;overflow: hidden;padding: 0;position: absolute;width: 1px;}#sk-container-id-2 div.sk-estimator {font-family: monospace;background-color: #f0f8ff;border: 1px dotted black;border-radius: 0.25em;box-sizing: border-box;margin-bottom: 0.5em;}#sk-container-id-2 div.sk-estimator:hover {background-color: #d4ebff;}#sk-container-id-2 div.sk-parallel-item::after {content: \"\";width: 100%;border-bottom: 1px solid gray;flex-grow: 1;}#sk-container-id-2 div.sk-label:hover label.sk-toggleable__label {background-color: #d4ebff;}#sk-container-id-2 div.sk-serial::before {content: \"\";position: absolute;border-left: 1px solid gray;box-sizing: border-box;top: 0;bottom: 0;left: 50%;z-index: 0;}#sk-container-id-2 div.sk-serial {display: flex;flex-direction: column;align-items: center;background-color: white;padding-right: 0.2em;padding-left: 0.2em;position: relative;}#sk-container-id-2 div.sk-item {position: relative;z-index: 1;}#sk-container-id-2 div.sk-parallel {display: flex;align-items: stretch;justify-content: center;background-color: white;position: relative;}#sk-container-id-2 div.sk-item::before, #sk-container-id-2 div.sk-parallel-item::before {content: \"\";position: absolute;border-left: 1px solid gray;box-sizing: border-box;top: 0;bottom: 0;left: 50%;z-index: -1;}#sk-container-id-2 div.sk-parallel-item {display: flex;flex-direction: column;z-index: 1;position: relative;background-color: white;}#sk-container-id-2 div.sk-parallel-item:first-child::after {align-self: flex-end;width: 50%;}#sk-container-id-2 div.sk-parallel-item:last-child::after {align-self: flex-start;width: 50%;}#sk-container-id-2 div.sk-parallel-item:only-child::after {width: 0;}#sk-container-id-2 div.sk-dashed-wrapped {border: 1px dashed gray;margin: 0 0.4em 0.5em 0.4em;box-sizing: border-box;padding-bottom: 0.4em;background-color: white;}#sk-container-id-2 div.sk-label label {font-family: monospace;font-weight: bold;display: inline-block;line-height: 1.2em;}#sk-container-id-2 div.sk-label-container {text-align: center;}#sk-container-id-2 div.sk-container {/* jupyter's `normalize.less` sets `[hidden] { display: none; }` but bootstrap.min.css set `[hidden] { display: none !important; }` so we also need the `!important` here to be able to override the default hidden behavior on the sphinx rendered scikit-learn.org. See: https://github.com/scikit-learn/scikit-learn/issues/21755 */display: inline-block !important;position: relative;}#sk-container-id-2 div.sk-text-repr-fallback {display: none;}</style><div id=\"sk-container-id-2\" class=\"sk-top-container\"><div class=\"sk-text-repr-fallback\"><pre>LinearRegression()</pre><b>In a Jupyter environment, please rerun this cell to show the HTML representation or trust the notebook. <br />On GitHub, the HTML representation is unable to render, please try loading this page with nbviewer.org.</b></div><div class=\"sk-container\" hidden><div class=\"sk-item\"><div class=\"sk-estimator sk-toggleable\"><input class=\"sk-toggleable__control sk-hidden--visually\" id=\"sk-estimator-id-2\" type=\"checkbox\" checked><label for=\"sk-estimator-id-2\" class=\"sk-toggleable__label sk-toggleable__label-arrow\">LinearRegression</label><div class=\"sk-toggleable__content\"><pre>LinearRegression()</pre></div></div></div></div></div>"
      ],
      "text/plain": [
       "LinearRegression()"
      ]
     },
     "execution_count": 26,
     "metadata": {},
     "output_type": "execute_result"
    }
   ],
   "source": [
    "# Importer la classe pour créer un modèle de régression linéaire\n",
    "from sklearn.linear_model import LinearRegression\n",
    "\n",
    "# Instancier un objet de la classe LinearRegression\n",
    "regressor = LinearRegression()\n",
    "\n",
    "# Ajuster le modèle aux données d'entraînement\n",
    "regressor.fit(X_train,y_train)\n"
   ]
  },
  {
   "cell_type": "markdown",
   "metadata": {},
   "source": [
    "### Prédiction du test"
   ]
  },
  {
   "cell_type": "code",
   "execution_count": null,
   "metadata": {},
   "outputs": [
    {
     "data": {
      "text/plain": [
       "array([ 692.86868013,  852.09078531,  914.15696143, 1129.4496547 ,\n",
       "        813.3435515 ,  801.8604491 ,  638.38137197,  935.57848272,\n",
       "        758.28517684,  924.68195359,  928.43358371,  971.95526458,\n",
       "        767.87475754,  827.21324101,  941.44149028,  976.30683391,\n",
       "        948.82850958,  870.14667475,  748.91167726,  935.57848272,\n",
       "        889.00784651,  924.68195359, 1077.48971333,  971.95526458,\n",
       "        924.78336556,  748.91167726,  963.98897698,  914.15696143,\n",
       "        875.62474058,  734.26318259,  735.09458974,  911.40568928,\n",
       "        963.98897698,  824.28739295])"
      ]
     },
     "execution_count": 27,
     "metadata": {},
     "output_type": "execute_result"
    }
   ],
   "source": [
    "# Faire des prédictions sur les données de test\n",
    "y_pred_test =regressor.predict(X_test)\n",
    "\n",
    "# Afficher les valeurs prédites\n",
    "y_pred_test\n"
   ]
  },
  {
   "cell_type": "code",
   "execution_count": null,
   "metadata": {},
   "outputs": [
    {
     "name": "stdout",
     "output_type": "stream",
     "text": [
      "RMSE du train: 8.92768443727614\n",
      "RMSE du test: 140.8439941595616\n"
     ]
    }
   ],
   "source": [
    "# Importer les fonctions pour calculer les mesures d'évaluation\n",
    "from sklearn.metrics import mean_squared_error, r2_score\n",
    "\n",
    "# Calculer l'erreur quadratique moyenne (rmse) sur les données d'entraînement et de test\n",
    "train_rmse = np.sqrt(mean_squared_error(y_train, y_pred_train))\n",
    "test_rmse = np.sqrt(mean_squared_error(y_test, y_pred_test))\n",
    "\n",
    "# Calculer le coefficient de détermination (r2) sur les données d'entraînement et de test\n",
    "train_r2 = r2_score(y_train, y_pred_train)\n",
    "test_r2 = r2_score(y_test, y_pred_test)\n",
    "\n",
    "# Afficher les résultats\n",
    "print(\"RMSE du train:\", train_rmse)\n",
    "print(\"RMSE du test:\", test_rmse)\n"
   ]
  },
  {
   "cell_type": "code",
   "execution_count": null,
   "metadata": {},
   "outputs": [
    {
     "name": "stdout",
     "output_type": "stream",
     "text": [
      "RMSE scores: [26.31945439 23.62538367 52.97103915 25.98235248 12.20282655]\n",
      "Mean RMSE: 28.22021124644242\n"
     ]
    }
   ],
   "source": [
    "# Importer la fonction pour faire de la validation croisée\n",
    "from sklearn.model_selection import cross_val_score\n",
    "\n",
    "# Importer la fonction pour calculer l'erreur quadratique moyenne\n",
    "from sklearn.metrics import mean_squared_error\n",
    "\n",
    "# Faire de la validation croisée avec 5 plis sur le modèle de régression linéaire et les données d'entraînement\n",
    "# Utiliser le score négatif de l'erreur quadratique moyenne comme critère d'évaluation\n",
    "scores = cross_val_score(lr, X_train, y_train, cv=5, scoring='neg_mean_squared_error')\n",
    "\n",
    "# Calculer la racine carrée des scores négatifs pour obtenir les scores de RMSE\n",
    "rmse_scores = np.sqrt(-scores)\n",
    "\n",
    "# Afficher les scores de RMSE pour chaque pli\n",
    "print(\"RMSE scores:\", rmse_scores)\n",
    "\n",
    "# Calculer la moyenne des scores de RMSE\n",
    "print(\"Mean RMSE:\", rmse_scores.mean())\n"
   ]
  },
  {
   "cell_type": "markdown",
   "metadata": {},
   "source": [
    "### Sauvegarde du modèle "
   ]
  },
  {
   "cell_type": "code",
   "execution_count": null,
   "metadata": {},
   "outputs": [],
   "source": [
    "# Importer le module pickle pour sauvegarder le modèle\n",
    "import pickle\n",
    "\n",
    "# Ouvrir un fichier en mode écriture binaire\n",
    "with open('gbr.pkl', 'wb') as file:\n",
    "     # Sauvegarder le modèle de régression linéaire dans le fichier\n",
    "     pickle.dump(lr, file)\n"
   ]
  },
  {
   "cell_type": "markdown",
   "metadata": {},
   "source": [
    "### Création de l'application"
   ]
  },
  {
   "cell_type": "code",
   "execution_count": null,
   "metadata": {},
   "outputs": [
    {
     "name": "stdout",
     "output_type": "stream",
     "text": [
      "Running on local URL:  http://127.0.0.1:7860\n",
      "\n",
      "To create a public link, set `share=True` in `launch()`.\n"
     ]
    },
    {
     "data": {
      "text/html": [
       "<div><iframe src=\"http://127.0.0.1:7860/\" width=\"100%\" height=\"500\" allow=\"autoplay; camera; microphone; clipboard-read; clipboard-write;\" frameborder=\"0\" allowfullscreen></iframe></div>"
      ],
      "text/plain": [
       "<IPython.core.display.HTML object>"
      ]
     },
     "metadata": {},
     "output_type": "display_data"
    },
    {
     "data": {
      "text/plain": []
     },
     "execution_count": 31,
     "metadata": {},
     "output_type": "execute_result"
    }
   ],
   "source": [
    "create_app(lr)"
   ]
  }
 ],
 "metadata": {
  "kernelspec": {
   "display_name": "Python 3 (ipykernel)",
   "language": "python",
   "name": "python3"
  },
  "language_info": {
   "codemirror_mode": {
    "name": "ipython",
    "version": 3
   },
   "file_extension": ".py",
   "mimetype": "text/x-python",
   "name": "python",
   "nbconvert_exporter": "python",
   "pygments_lexer": "ipython3",
   "version": "3.10.9"
  }
 },
 "nbformat": 4,
 "nbformat_minor": 2
}
