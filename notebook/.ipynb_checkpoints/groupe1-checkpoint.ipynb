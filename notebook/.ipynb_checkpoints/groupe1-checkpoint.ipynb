{
 "cells": [
  {
   "cell_type": "markdown",
   "metadata": {},
   "source": [
    "### Projet Tutoré | Master 1 |  Groupe 1 "
   ]
  },
  {
   "cell_type": "markdown",
   "metadata": {},
   "source": [
    "#### --------------------------------------------------"
   ]
  },
  {
   "cell_type": "markdown",
   "metadata": {},
   "source": [
    "### Ce notebook permet de résoudre un problème lié à la assurance des voitures. Il permet de prédire le prix de l'assurance d'une voiture en fonction de plusieurs paramètres (les Etats, les collisions par conducteur...). L'algorithme utilisé ici est un algorithme de régression.\n"
   ]
  },
  {
   "cell_type": "markdown",
   "metadata": {},
   "source": [
    "### Importation des librairies "
   ]
  },
  {
   "cell_type": "code",
   "execution_count": 1,
   "metadata": {
    "vscode": {
     "languageId": "plaintext"
    }
   },
   "outputs": [],
   "source": [
    "# Importer les bibliothèques nécessaires\n",
    "import numpy as np # Pour les opérations mathématiques sur les tableaux\n",
    "import pandas as pd # Pour la manipulation des données tabulaires\n",
    "import seaborn as sns # Pour la visualisation des données statistiques\n",
    "import matplotlib.pyplot as plt # Pour la création de graphiques\n",
    "import pycaret as py # Pour l'automatisation du machine learning\n"
   ]
  },
  {
   "cell_type": "markdown",
   "metadata": {},
   "source": [
    "### Importation et lecture du dataset"
   ]
  },
  {
   "cell_type": "code",
   "execution_count": 2,
   "metadata": {
    "vscode": {
     "languageId": "plaintext"
    }
   },
   "outputs": [
    {
     "data": {
      "text/html": [
       "<div>\n",
       "<style scoped>\n",
       "    .dataframe tbody tr th:only-of-type {\n",
       "        vertical-align: middle;\n",
       "    }\n",
       "\n",
       "    .dataframe tbody tr th {\n",
       "        vertical-align: top;\n",
       "    }\n",
       "\n",
       "    .dataframe thead th {\n",
       "        text-align: right;\n",
       "    }\n",
       "</style>\n",
       "<table border=\"1\" class=\"dataframe\">\n",
       "  <thead>\n",
       "    <tr style=\"text-align: right;\">\n",
       "      <th></th>\n",
       "      <th>State</th>\n",
       "      <th>Number_billion_miles</th>\n",
       "      <th>Percentage_Speeding</th>\n",
       "      <th>Percentage_Alcohol</th>\n",
       "      <th>Percentage_Not_Distracted</th>\n",
       "      <th>Percentage_Accidents</th>\n",
       "      <th>Car_Insurance_Premiums</th>\n",
       "      <th>Losses_insured_driver</th>\n",
       "    </tr>\n",
       "  </thead>\n",
       "  <tbody>\n",
       "    <tr>\n",
       "      <th>0</th>\n",
       "      <td>Alabama</td>\n",
       "      <td>18.8</td>\n",
       "      <td>39</td>\n",
       "      <td>30</td>\n",
       "      <td>96</td>\n",
       "      <td>80</td>\n",
       "      <td>784.55</td>\n",
       "      <td>145.08</td>\n",
       "    </tr>\n",
       "    <tr>\n",
       "      <th>1</th>\n",
       "      <td>Alaska</td>\n",
       "      <td>18.1</td>\n",
       "      <td>41</td>\n",
       "      <td>25</td>\n",
       "      <td>90</td>\n",
       "      <td>94</td>\n",
       "      <td>1053.48</td>\n",
       "      <td>133.93</td>\n",
       "    </tr>\n",
       "    <tr>\n",
       "      <th>2</th>\n",
       "      <td>Arizona</td>\n",
       "      <td>18.6</td>\n",
       "      <td>35</td>\n",
       "      <td>28</td>\n",
       "      <td>84</td>\n",
       "      <td>96</td>\n",
       "      <td>899.47</td>\n",
       "      <td>110.35</td>\n",
       "    </tr>\n",
       "    <tr>\n",
       "      <th>3</th>\n",
       "      <td>Arkansas</td>\n",
       "      <td>22.4</td>\n",
       "      <td>18</td>\n",
       "      <td>26</td>\n",
       "      <td>94</td>\n",
       "      <td>95</td>\n",
       "      <td>827.34</td>\n",
       "      <td>142.39</td>\n",
       "    </tr>\n",
       "    <tr>\n",
       "      <th>4</th>\n",
       "      <td>California</td>\n",
       "      <td>12.0</td>\n",
       "      <td>35</td>\n",
       "      <td>28</td>\n",
       "      <td>91</td>\n",
       "      <td>89</td>\n",
       "      <td>878.41</td>\n",
       "      <td>165.63</td>\n",
       "    </tr>\n",
       "  </tbody>\n",
       "</table>\n",
       "</div>"
      ],
      "text/plain": [
       "        State  Number_billion_miles  Percentage_Speeding  Percentage_Alcohol  \\\n",
       "0     Alabama                  18.8                   39                  30   \n",
       "1      Alaska                  18.1                   41                  25   \n",
       "2     Arizona                  18.6                   35                  28   \n",
       "3    Arkansas                  22.4                   18                  26   \n",
       "4  California                  12.0                   35                  28   \n",
       "\n",
       "   Percentage_Not_Distracted  Percentage_Accidents  Car_Insurance_Premiums  \\\n",
       "0                         96                    80                  784.55   \n",
       "1                         90                    94                 1053.48   \n",
       "2                         84                    96                  899.47   \n",
       "3                         94                    95                  827.34   \n",
       "4                         91                    89                  878.41   \n",
       "\n",
       "   Losses_insured_driver  \n",
       "0                 145.08  \n",
       "1                 133.93  \n",
       "2                 110.35  \n",
       "3                 142.39  \n",
       "4                 165.63  "
      ]
     },
     "execution_count": 2,
     "metadata": {},
     "output_type": "execute_result"
    }
   ],
   "source": [
    "# Charger les données à partir d'un fichier CSV\n",
    "data = pd.read_csv(\"data/bad-drivers3.csv\")\n",
    "# Afficher les cinq premières lignes des données\n",
    "data.head()\n"
   ]
  },
  {
   "cell_type": "markdown",
   "metadata": {},
   "source": [
    "### Vérification du nombre de lignes et de colonnes du DataFrame"
   ]
  },
  {
   "cell_type": "code",
   "execution_count": 3,
   "metadata": {
    "vscode": {
     "languageId": "plaintext"
    }
   },
   "outputs": [
    {
     "data": {
      "text/plain": [
       "(170, 8)"
      ]
     },
     "execution_count": 3,
     "metadata": {},
     "output_type": "execute_result"
    }
   ],
   "source": [
    "# Afficher la dimension des données (nombre de lignes et de colonnes)\n",
    "data.shape\n"
   ]
  },
  {
   "cell_type": "markdown",
   "metadata": {},
   "source": [
    "### Vérification de l'existance des colonnes vides dans le DataFrame"
   ]
  },
  {
   "cell_type": "code",
   "execution_count": 4,
   "metadata": {
    "vscode": {
     "languageId": "plaintext"
    }
   },
   "outputs": [
    {
     "data": {
      "text/plain": [
       "State                        0\n",
       "Number_billion_miles         0\n",
       "Percentage_Speeding          0\n",
       "Percentage_Alcohol           0\n",
       "Percentage_Not_Distracted    0\n",
       "Percentage_Accidents         0\n",
       "Car_Insurance_Premiums       0\n",
       "Losses_insured_driver        0\n",
       "dtype: int64"
      ]
     },
     "execution_count": 4,
     "metadata": {},
     "output_type": "execute_result"
    }
   ],
   "source": [
    "# Afficher le nombre de valeurs manquantes par colonne\n",
    "data.isna().sum()\n"
   ]
  },
  {
   "cell_type": "markdown",
   "metadata": {},
   "source": [
    "### Statistique des données du DataFrame"
   ]
  },
  {
   "cell_type": "code",
   "execution_count": 5,
   "metadata": {
    "vscode": {
     "languageId": "plaintext"
    }
   },
   "outputs": [
    {
     "data": {
      "text/html": [
       "<div>\n",
       "<style scoped>\n",
       "    .dataframe tbody tr th:only-of-type {\n",
       "        vertical-align: middle;\n",
       "    }\n",
       "\n",
       "    .dataframe tbody tr th {\n",
       "        vertical-align: top;\n",
       "    }\n",
       "\n",
       "    .dataframe thead th {\n",
       "        text-align: right;\n",
       "    }\n",
       "</style>\n",
       "<table border=\"1\" class=\"dataframe\">\n",
       "  <thead>\n",
       "    <tr style=\"text-align: right;\">\n",
       "      <th></th>\n",
       "      <th>Number_billion_miles</th>\n",
       "      <th>Percentage_Speeding</th>\n",
       "      <th>Percentage_Alcohol</th>\n",
       "      <th>Percentage_Not_Distracted</th>\n",
       "      <th>Percentage_Accidents</th>\n",
       "      <th>Car_Insurance_Premiums</th>\n",
       "      <th>Losses_insured_driver</th>\n",
       "    </tr>\n",
       "  </thead>\n",
       "  <tbody>\n",
       "    <tr>\n",
       "      <th>count</th>\n",
       "      <td>170.000000</td>\n",
       "      <td>170.000000</td>\n",
       "      <td>170.000000</td>\n",
       "      <td>170.000000</td>\n",
       "      <td>170.000000</td>\n",
       "      <td>170.000000</td>\n",
       "      <td>170.000000</td>\n",
       "    </tr>\n",
       "    <tr>\n",
       "      <th>mean</th>\n",
       "      <td>15.761176</td>\n",
       "      <td>31.835294</td>\n",
       "      <td>30.523529</td>\n",
       "      <td>86.300000</td>\n",
       "      <td>89.058824</td>\n",
       "      <td>888.136824</td>\n",
       "      <td>134.448706</td>\n",
       "    </tr>\n",
       "    <tr>\n",
       "      <th>std</th>\n",
       "      <td>4.054965</td>\n",
       "      <td>9.619196</td>\n",
       "      <td>5.044422</td>\n",
       "      <td>14.471294</td>\n",
       "      <td>6.882536</td>\n",
       "      <td>177.101592</td>\n",
       "      <td>24.292363</td>\n",
       "    </tr>\n",
       "    <tr>\n",
       "      <th>min</th>\n",
       "      <td>5.900000</td>\n",
       "      <td>13.000000</td>\n",
       "      <td>16.000000</td>\n",
       "      <td>10.000000</td>\n",
       "      <td>76.000000</td>\n",
       "      <td>641.960000</td>\n",
       "      <td>82.750000</td>\n",
       "    </tr>\n",
       "    <tr>\n",
       "      <th>25%</th>\n",
       "      <td>12.800000</td>\n",
       "      <td>23.000000</td>\n",
       "      <td>28.000000</td>\n",
       "      <td>84.000000</td>\n",
       "      <td>84.000000</td>\n",
       "      <td>768.950000</td>\n",
       "      <td>114.557500</td>\n",
       "    </tr>\n",
       "    <tr>\n",
       "      <th>50%</th>\n",
       "      <td>15.600000</td>\n",
       "      <td>34.000000</td>\n",
       "      <td>30.000000</td>\n",
       "      <td>89.000000</td>\n",
       "      <td>88.000000</td>\n",
       "      <td>858.970000</td>\n",
       "      <td>136.050000</td>\n",
       "    </tr>\n",
       "    <tr>\n",
       "      <th>75%</th>\n",
       "      <td>18.400000</td>\n",
       "      <td>38.000000</td>\n",
       "      <td>33.000000</td>\n",
       "      <td>95.000000</td>\n",
       "      <td>95.000000</td>\n",
       "      <td>1011.140000</td>\n",
       "      <td>151.480000</td>\n",
       "    </tr>\n",
       "    <tr>\n",
       "      <th>max</th>\n",
       "      <td>23.900000</td>\n",
       "      <td>54.000000</td>\n",
       "      <td>44.000000</td>\n",
       "      <td>100.000000</td>\n",
       "      <td>100.000000</td>\n",
       "      <td>1301.520000</td>\n",
       "      <td>194.780000</td>\n",
       "    </tr>\n",
       "  </tbody>\n",
       "</table>\n",
       "</div>"
      ],
      "text/plain": [
       "       Number_billion_miles  Percentage_Speeding  Percentage_Alcohol  \\\n",
       "count            170.000000           170.000000          170.000000   \n",
       "mean              15.761176            31.835294           30.523529   \n",
       "std                4.054965             9.619196            5.044422   \n",
       "min                5.900000            13.000000           16.000000   \n",
       "25%               12.800000            23.000000           28.000000   \n",
       "50%               15.600000            34.000000           30.000000   \n",
       "75%               18.400000            38.000000           33.000000   \n",
       "max               23.900000            54.000000           44.000000   \n",
       "\n",
       "       Percentage_Not_Distracted  Percentage_Accidents  \\\n",
       "count                 170.000000            170.000000   \n",
       "mean                   86.300000             89.058824   \n",
       "std                    14.471294              6.882536   \n",
       "min                    10.000000             76.000000   \n",
       "25%                    84.000000             84.000000   \n",
       "50%                    89.000000             88.000000   \n",
       "75%                    95.000000             95.000000   \n",
       "max                   100.000000            100.000000   \n",
       "\n",
       "       Car_Insurance_Premiums  Losses_insured_driver  \n",
       "count              170.000000             170.000000  \n",
       "mean               888.136824             134.448706  \n",
       "std                177.101592              24.292363  \n",
       "min                641.960000              82.750000  \n",
       "25%                768.950000             114.557500  \n",
       "50%                858.970000             136.050000  \n",
       "75%               1011.140000             151.480000  \n",
       "max               1301.520000             194.780000  "
      ]
     },
     "execution_count": 5,
     "metadata": {},
     "output_type": "execute_result"
    }
   ],
   "source": [
    "# Afficher les statistiques descriptives des variables numériques\n",
    "data.describe()\n"
   ]
  },
  {
   "cell_type": "markdown",
   "metadata": {},
   "source": [
    "### Affichage de toutes les colonnes du DataFrame"
   ]
  },
  {
   "cell_type": "code",
   "execution_count": 6,
   "metadata": {
    "vscode": {
     "languageId": "plaintext"
    }
   },
   "outputs": [
    {
     "data": {
      "text/plain": [
       "Index(['State', 'Number_billion_miles', 'Percentage_Speeding',\n",
       "       'Percentage_Alcohol', 'Percentage_Not_Distracted',\n",
       "       'Percentage_Accidents', 'Car_Insurance_Premiums',\n",
       "       'Losses_insured_driver'],\n",
       "      dtype='object')"
      ]
     },
     "execution_count": 6,
     "metadata": {},
     "output_type": "execute_result"
    }
   ],
   "source": [
    "# Afficher les noms des colonnes des données\n",
    "data.columns\n"
   ]
  },
  {
   "cell_type": "markdown",
   "metadata": {},
   "source": [
    "### Plot de  quelques colonnes du dataframe avec le target Car Insurance Premiums "
   ]
  },
  {
   "cell_type": "code",
   "execution_count": 7,
   "metadata": {
    "vscode": {
     "languageId": "plaintext"
    }
   },
   "outputs": [
    {
     "data": {
      "text/plain": [
       "<Axes: xlabel='Percentage_Alcohol', ylabel='Car_Insurance_Premiums'>"
      ]
     },
     "execution_count": 7,
     "metadata": {},
     "output_type": "execute_result"
    },
    {
     "data": {
      "image/png": "[encoded data removed]",
      "text/plain": [
       "<Figure size 640x480 with 1 Axes>"
      ]
     },
     "metadata": {},
     "output_type": "display_data"
    }
   ],
   "source": [
    "# Afficher un nuage de points entre les variables \"Percentage_Alcohol\" et \"Car_Insurance_Premiums\"\n",
    "# Utiliser la couleur pour représenter les valeurs de \"Car_Insurance_Premiums\"\n",
    "sns.scatterplot(x=\"Percentage_Alcohol\" ,y=\"Car_Insurance_Premiums\", hue=\"Car_Insurance_Premiums\", data=data)\n"
   ]
  },
  {
   "cell_type": "code",
   "execution_count": 8,
   "metadata": {
    "vscode": {
     "languageId": "plaintext"
    }
   },
   "outputs": [
    {
     "data": {
      "text/plain": [
       "<Axes: xlabel='Losses_insured_driver', ylabel='Car_Insurance_Premiums'>"
      ]
     },
     "execution_count": 8,
     "metadata": {},
     "output_type": "execute_result"
    },
    {
     "data": {
      "image/png": "[encoded data removed]",
      "text/plain": [
       "<Figure size 640x480 with 1 Axes>"
      ]
     },
     "metadata": {},
     "output_type": "display_data"
    }
   ],
   "source": [
    "# Afficher un nuage de points entre les variables \"Losses_insured_driver\" et \"Car_Insurance_Premiums\"\n",
    "# Utiliser la couleur pour représenter les valeurs de \"Car_Insurance_Premiums\"\n",
    "sns.scatterplot(x=\"Losses_insured_driver\" ,y=\"Car_Insurance_Premiums\", hue=\"Car_Insurance_Premiums\", data=data)\n"
   ]
  },
  {
   "cell_type": "code",
   "execution_count": 9,
   "metadata": {
    "vscode": {
     "languageId": "plaintext"
    }
   },
   "outputs": [
    {
     "data": {
      "text/html": [
       "<div>\n",
       "<style scoped>\n",
       "    .dataframe tbody tr th:only-of-type {\n",
       "        vertical-align: middle;\n",
       "    }\n",
       "\n",
       "    .dataframe tbody tr th {\n",
       "        vertical-align: top;\n",
       "    }\n",
       "\n",
       "    .dataframe thead th {\n",
       "        text-align: right;\n",
       "    }\n",
       "</style>\n",
       "<table border=\"1\" class=\"dataframe\">\n",
       "  <thead>\n",
       "    <tr style=\"text-align: right;\">\n",
       "      <th></th>\n",
       "      <th>Number_billion_miles</th>\n",
       "      <th>Percentage_Speeding</th>\n",
       "      <th>Percentage_Alcohol</th>\n",
       "      <th>Percentage_Not_Distracted</th>\n",
       "      <th>Percentage_Accidents</th>\n",
       "      <th>Car_Insurance_Premiums</th>\n",
       "      <th>Losses_insured_driver</th>\n",
       "    </tr>\n",
       "  </thead>\n",
       "  <tbody>\n",
       "    <tr>\n",
       "      <th>0</th>\n",
       "      <td>18.8</td>\n",
       "      <td>39</td>\n",
       "      <td>30</td>\n",
       "      <td>96</td>\n",
       "      <td>80</td>\n",
       "      <td>784.55</td>\n",
       "      <td>145.08</td>\n",
       "    </tr>\n",
       "    <tr>\n",
       "      <th>1</th>\n",
       "      <td>18.1</td>\n",
       "      <td>41</td>\n",
       "      <td>25</td>\n",
       "      <td>90</td>\n",
       "      <td>94</td>\n",
       "      <td>1053.48</td>\n",
       "      <td>133.93</td>\n",
       "    </tr>\n",
       "    <tr>\n",
       "      <th>2</th>\n",
       "      <td>18.6</td>\n",
       "      <td>35</td>\n",
       "      <td>28</td>\n",
       "      <td>84</td>\n",
       "      <td>96</td>\n",
       "      <td>899.47</td>\n",
       "      <td>110.35</td>\n",
       "    </tr>\n",
       "    <tr>\n",
       "      <th>3</th>\n",
       "      <td>22.4</td>\n",
       "      <td>18</td>\n",
       "      <td>26</td>\n",
       "      <td>94</td>\n",
       "      <td>95</td>\n",
       "      <td>827.34</td>\n",
       "      <td>142.39</td>\n",
       "    </tr>\n",
       "    <tr>\n",
       "      <th>4</th>\n",
       "      <td>12.0</td>\n",
       "      <td>35</td>\n",
       "      <td>28</td>\n",
       "      <td>91</td>\n",
       "      <td>89</td>\n",
       "      <td>878.41</td>\n",
       "      <td>165.63</td>\n",
       "    </tr>\n",
       "  </tbody>\n",
       "</table>\n",
       "</div>"
      ],
      "text/plain": [
       "   Number_billion_miles  Percentage_Speeding  Percentage_Alcohol  \\\n",
       "0                  18.8                   39                  30   \n",
       "1                  18.1                   41                  25   \n",
       "2                  18.6                   35                  28   \n",
       "3                  22.4                   18                  26   \n",
       "4                  12.0                   35                  28   \n",
       "\n",
       "   Percentage_Not_Distracted  Percentage_Accidents  Car_Insurance_Premiums  \\\n",
       "0                         96                    80                  784.55   \n",
       "1                         90                    94                 1053.48   \n",
       "2                         84                    96                  899.47   \n",
       "3                         94                    95                  827.34   \n",
       "4                         91                    89                  878.41   \n",
       "\n",
       "   Losses_insured_driver  \n",
       "0                 145.08  \n",
       "1                 133.93  \n",
       "2                 110.35  \n",
       "3                 142.39  \n",
       "4                 165.63  "
      ]
     },
     "execution_count": 9,
     "metadata": {},
     "output_type": "execute_result"
    }
   ],
   "source": [
    "# Supprimer la colonne \"State\" des données\n",
    "dataset = data.drop([\"State\"],axis=1)\n",
    "# Afficher les cinq premières lignes du nouveau jeu de données\n",
    "dataset.head()\n"
   ]
  },
  {
   "cell_type": "markdown",
   "metadata": {},
   "source": [
    "### Tableau de corrélation"
   ]
  },
  {
   "cell_type": "code",
   "execution_count": 10,
   "metadata": {
    "vscode": {
     "languageId": "plaintext"
    }
   },
   "outputs": [
    {
     "data": {
      "text/html": [
       "<div>\n",
       "<style scoped>\n",
       "    .dataframe tbody tr th:only-of-type {\n",
       "        vertical-align: middle;\n",
       "    }\n",
       "\n",
       "    .dataframe tbody tr th {\n",
       "        vertical-align: top;\n",
       "    }\n",
       "\n",
       "    .dataframe thead th {\n",
       "        text-align: right;\n",
       "    }\n",
       "</style>\n",
       "<table border=\"1\" class=\"dataframe\">\n",
       "  <thead>\n",
       "    <tr style=\"text-align: right;\">\n",
       "      <th></th>\n",
       "      <th>Number_billion_miles</th>\n",
       "      <th>Percentage_Speeding</th>\n",
       "      <th>Percentage_Alcohol</th>\n",
       "      <th>Percentage_Not_Distracted</th>\n",
       "      <th>Percentage_Accidents</th>\n",
       "      <th>Car_Insurance_Premiums</th>\n",
       "      <th>Losses_insured_driver</th>\n",
       "    </tr>\n",
       "  </thead>\n",
       "  <tbody>\n",
       "    <tr>\n",
       "      <th>Number_billion_miles</th>\n",
       "      <td>1.000000</td>\n",
       "      <td>-0.048921</td>\n",
       "      <td>0.173380</td>\n",
       "      <td>-0.001706</td>\n",
       "      <td>-0.031933</td>\n",
       "      <td>-0.212949</td>\n",
       "      <td>-0.047961</td>\n",
       "    </tr>\n",
       "    <tr>\n",
       "      <th>Percentage_Speeding</th>\n",
       "      <td>-0.048921</td>\n",
       "      <td>1.000000</td>\n",
       "      <td>0.319210</td>\n",
       "      <td>0.105734</td>\n",
       "      <td>0.000773</td>\n",
       "      <td>0.060080</td>\n",
       "      <td>-0.046866</td>\n",
       "    </tr>\n",
       "    <tr>\n",
       "      <th>Percentage_Alcohol</th>\n",
       "      <td>0.173380</td>\n",
       "      <td>0.319210</td>\n",
       "      <td>1.000000</td>\n",
       "      <td>0.025882</td>\n",
       "      <td>-0.255519</td>\n",
       "      <td>-0.012204</td>\n",
       "      <td>-0.070687</td>\n",
       "    </tr>\n",
       "    <tr>\n",
       "      <th>Percentage_Not_Distracted</th>\n",
       "      <td>-0.001706</td>\n",
       "      <td>0.105734</td>\n",
       "      <td>0.025882</td>\n",
       "      <td>1.000000</td>\n",
       "      <td>-0.167654</td>\n",
       "      <td>0.026527</td>\n",
       "      <td>-0.051563</td>\n",
       "    </tr>\n",
       "    <tr>\n",
       "      <th>Percentage_Accidents</th>\n",
       "      <td>-0.031933</td>\n",
       "      <td>0.000773</td>\n",
       "      <td>-0.255519</td>\n",
       "      <td>-0.167654</td>\n",
       "      <td>1.000000</td>\n",
       "      <td>0.093642</td>\n",
       "      <td>0.015807</td>\n",
       "    </tr>\n",
       "    <tr>\n",
       "      <th>Car_Insurance_Premiums</th>\n",
       "      <td>-0.212949</td>\n",
       "      <td>0.060080</td>\n",
       "      <td>-0.012204</td>\n",
       "      <td>0.026527</td>\n",
       "      <td>0.093642</td>\n",
       "      <td>1.000000</td>\n",
       "      <td>0.614833</td>\n",
       "    </tr>\n",
       "    <tr>\n",
       "      <th>Losses_insured_driver</th>\n",
       "      <td>-0.047961</td>\n",
       "      <td>-0.046866</td>\n",
       "      <td>-0.070687</td>\n",
       "      <td>-0.051563</td>\n",
       "      <td>0.015807</td>\n",
       "      <td>0.614833</td>\n",
       "      <td>1.000000</td>\n",
       "    </tr>\n",
       "  </tbody>\n",
       "</table>\n",
       "</div>"
      ],
      "text/plain": [
       "                           Number_billion_miles  Percentage_Speeding  \\\n",
       "Number_billion_miles                   1.000000            -0.048921   \n",
       "Percentage_Speeding                   -0.048921             1.000000   \n",
       "Percentage_Alcohol                     0.173380             0.319210   \n",
       "Percentage_Not_Distracted             -0.001706             0.105734   \n",
       "Percentage_Accidents                  -0.031933             0.000773   \n",
       "Car_Insurance_Premiums                -0.212949             0.060080   \n",
       "Losses_insured_driver                 -0.047961            -0.046866   \n",
       "\n",
       "                           Percentage_Alcohol  Percentage_Not_Distracted  \\\n",
       "Number_billion_miles                 0.173380                  -0.001706   \n",
       "Percentage_Speeding                  0.319210                   0.105734   \n",
       "Percentage_Alcohol                   1.000000                   0.025882   \n",
       "Percentage_Not_Distracted            0.025882                   1.000000   \n",
       "Percentage_Accidents                -0.255519                  -0.167654   \n",
       "Car_Insurance_Premiums              -0.012204                   0.026527   \n",
       "Losses_insured_driver               -0.070687                  -0.051563   \n",
       "\n",
       "                           Percentage_Accidents  Car_Insurance_Premiums  \\\n",
       "Number_billion_miles                  -0.031933               -0.212949   \n",
       "Percentage_Speeding                    0.000773                0.060080   \n",
       "Percentage_Alcohol                    -0.255519               -0.012204   \n",
       "Percentage_Not_Distracted             -0.167654                0.026527   \n",
       "Percentage_Accidents                   1.000000                0.093642   \n",
       "Car_Insurance_Premiums                 0.093642                1.000000   \n",
       "Losses_insured_driver                  0.015807                0.614833   \n",
       "\n",
       "                           Losses_insured_driver  \n",
       "Number_billion_miles                   -0.047961  \n",
       "Percentage_Speeding                    -0.046866  \n",
       "Percentage_Alcohol                     -0.070687  \n",
       "Percentage_Not_Distracted              -0.051563  \n",
       "Percentage_Accidents                    0.015807  \n",
       "Car_Insurance_Premiums                  0.614833  \n",
       "Losses_insured_driver                   1.000000  "
      ]
     },
     "execution_count": 10,
     "metadata": {},
     "output_type": "execute_result"
    }
   ],
   "source": [
    "# Calculer la matrice de corrélation entre les variables numériques\n",
    "dataset.corr()\n"
   ]
  },
  {
   "cell_type": "markdown",
   "metadata": {},
   "source": [
    "### Matrice de corrélation"
   ]
  },
  {
   "cell_type": "code",
   "execution_count": 11,
   "metadata": {
    "vscode": {
     "languageId": "plaintext"
    }
   },
   "outputs": [
    {
     "data": {
      "image/png": "[encoded data removed]",
      "text/plain": [
       "<Figure size 640x480 with 2 Axes>"
      ]
     },
     "metadata": {},
     "output_type": "display_data"
    }
   ],
   "source": [
    "# Afficher la matrice de corrélation sous forme de carte de chaleur\n",
    "# Utiliser une palette de couleurs allant du rouge au bleu, centrée sur zéro\n",
    "# Ajouter des lignes entre les cases et des annotations avec le format décimal\n",
    "# Limiter l'échelle des couleurs entre -1 et 1\n",
    "sns.heatmap(dataset.corr(), center=0, cmap=\"RdBu\", linewidths=1, annot=True, fmt=\".2f\", vmin=-1, vmax=1)\n",
    "# Ajouter un titre au graphique avec une taille et une épaisseur de police\n",
    "plt.title(\"Matrice de corrélation\", fontsize=\"15\", fontweight=\"bold\")\n",
    "# Afficher le graphique\n",
    "plt.show()\n"
   ]
  },
  {
   "cell_type": "markdown",
   "metadata": {},
   "source": [
    "### Importation et utilisation de Pycaret"
   ]
  },
  {
   "cell_type": "code",
   "execution_count": 12,
   "metadata": {
    "vscode": {
     "languageId": "plaintext"
    }
   },
   "outputs": [
    {
     "data": {
      "text/html": [
       "<style type=\"text/css\">\n",
       "#T_74737_row8_col1, #T_74737_row12_col1, #T_74737_row17_col1 {\n",
       "  background-color: lightgreen;\n",
       "}\n",
       "</style>\n",
       "<table id=\"T_74737\">\n",
       "  <thead>\n",
       "    <tr>\n",
       "      <th class=\"blank level0\" >&nbsp;</th>\n",
       "      <th id=\"T_74737_level0_col0\" class=\"col_heading level0 col0\" >Description</th>\n",
       "      <th id=\"T_74737_level0_col1\" class=\"col_heading level0 col1\" >Value</th>\n",
       "    </tr>\n",
       "  </thead>\n",
       "  <tbody>\n",
       "    <tr>\n",
       "      <th id=\"T_74737_level0_row0\" class=\"row_heading level0 row0\" >0</th>\n",
       "      <td id=\"T_74737_row0_col0\" class=\"data row0 col0\" >Session id</td>\n",
       "      <td id=\"T_74737_row0_col1\" class=\"data row0 col1\" >362</td>\n",
       "    </tr>\n",
       "    <tr>\n",
       "      <th id=\"T_74737_level0_row1\" class=\"row_heading level0 row1\" >1</th>\n",
       "      <td id=\"T_74737_row1_col0\" class=\"data row1 col0\" >Target</td>\n",
       "      <td id=\"T_74737_row1_col1\" class=\"data row1 col1\" >Car_Insurance_Premiums</td>\n",
       "    </tr>\n",
       "    <tr>\n",
       "      <th id=\"T_74737_level0_row2\" class=\"row_heading level0 row2\" >2</th>\n",
       "      <td id=\"T_74737_row2_col0\" class=\"data row2 col0\" >Target type</td>\n",
       "      <td id=\"T_74737_row2_col1\" class=\"data row2 col1\" >Regression</td>\n",
       "    </tr>\n",
       "    <tr>\n",
       "      <th id=\"T_74737_level0_row3\" class=\"row_heading level0 row3\" >3</th>\n",
       "      <td id=\"T_74737_row3_col0\" class=\"data row3 col0\" >Original data shape</td>\n",
       "      <td id=\"T_74737_row3_col1\" class=\"data row3 col1\" >(170, 7)</td>\n",
       "    </tr>\n",
       "    <tr>\n",
       "      <th id=\"T_74737_level0_row4\" class=\"row_heading level0 row4\" >4</th>\n",
       "      <td id=\"T_74737_row4_col0\" class=\"data row4 col0\" >Transformed data shape</td>\n",
       "      <td id=\"T_74737_row4_col1\" class=\"data row4 col1\" >(170, 7)</td>\n",
       "    </tr>\n",
       "    <tr>\n",
       "      <th id=\"T_74737_level0_row5\" class=\"row_heading level0 row5\" >5</th>\n",
       "      <td id=\"T_74737_row5_col0\" class=\"data row5 col0\" >Transformed train set shape</td>\n",
       "      <td id=\"T_74737_row5_col1\" class=\"data row5 col1\" >(118, 7)</td>\n",
       "    </tr>\n",
       "    <tr>\n",
       "      <th id=\"T_74737_level0_row6\" class=\"row_heading level0 row6\" >6</th>\n",
       "      <td id=\"T_74737_row6_col0\" class=\"data row6 col0\" >Transformed test set shape</td>\n",
       "      <td id=\"T_74737_row6_col1\" class=\"data row6 col1\" >(52, 7)</td>\n",
       "    </tr>\n",
       "    <tr>\n",
       "      <th id=\"T_74737_level0_row7\" class=\"row_heading level0 row7\" >7</th>\n",
       "      <td id=\"T_74737_row7_col0\" class=\"data row7 col0\" >Numeric features</td>\n",
       "      <td id=\"T_74737_row7_col1\" class=\"data row7 col1\" >6</td>\n",
       "    </tr>\n",
       "    <tr>\n",
       "      <th id=\"T_74737_level0_row8\" class=\"row_heading level0 row8\" >8</th>\n",
       "      <td id=\"T_74737_row8_col0\" class=\"data row8 col0\" >Preprocess</td>\n",
       "      <td id=\"T_74737_row8_col1\" class=\"data row8 col1\" >True</td>\n",
       "    </tr>\n",
       "    <tr>\n",
       "      <th id=\"T_74737_level0_row9\" class=\"row_heading level0 row9\" >9</th>\n",
       "      <td id=\"T_74737_row9_col0\" class=\"data row9 col0\" >Imputation type</td>\n",
       "      <td id=\"T_74737_row9_col1\" class=\"data row9 col1\" >simple</td>\n",
       "    </tr>\n",
       "    <tr>\n",
       "      <th id=\"T_74737_level0_row10\" class=\"row_heading level0 row10\" >10</th>\n",
       "      <td id=\"T_74737_row10_col0\" class=\"data row10 col0\" >Numeric imputation</td>\n",
       "      <td id=\"T_74737_row10_col1\" class=\"data row10 col1\" >mean</td>\n",
       "    </tr>\n",
       "    <tr>\n",
       "      <th id=\"T_74737_level0_row11\" class=\"row_heading level0 row11\" >11</th>\n",
       "      <td id=\"T_74737_row11_col0\" class=\"data row11 col0\" >Categorical imputation</td>\n",
       "      <td id=\"T_74737_row11_col1\" class=\"data row11 col1\" >mode</td>\n",
       "    </tr>\n",
       "    <tr>\n",
       "      <th id=\"T_74737_level0_row12\" class=\"row_heading level0 row12\" >12</th>\n",
       "      <td id=\"T_74737_row12_col0\" class=\"data row12 col0\" >Normalize</td>\n",
       "      <td id=\"T_74737_row12_col1\" class=\"data row12 col1\" >True</td>\n",
       "    </tr>\n",
       "    <tr>\n",
       "      <th id=\"T_74737_level0_row13\" class=\"row_heading level0 row13\" >13</th>\n",
       "      <td id=\"T_74737_row13_col0\" class=\"data row13 col0\" >Normalize method</td>\n",
       "      <td id=\"T_74737_row13_col1\" class=\"data row13 col1\" >minmax</td>\n",
       "    </tr>\n",
       "    <tr>\n",
       "      <th id=\"T_74737_level0_row14\" class=\"row_heading level0 row14\" >14</th>\n",
       "      <td id=\"T_74737_row14_col0\" class=\"data row14 col0\" >Fold Generator</td>\n",
       "      <td id=\"T_74737_row14_col1\" class=\"data row14 col1\" >KFold</td>\n",
       "    </tr>\n",
       "    <tr>\n",
       "      <th id=\"T_74737_level0_row15\" class=\"row_heading level0 row15\" >15</th>\n",
       "      <td id=\"T_74737_row15_col0\" class=\"data row15 col0\" >Fold Number</td>\n",
       "      <td id=\"T_74737_row15_col1\" class=\"data row15 col1\" >10</td>\n",
       "    </tr>\n",
       "    <tr>\n",
       "      <th id=\"T_74737_level0_row16\" class=\"row_heading level0 row16\" >16</th>\n",
       "      <td id=\"T_74737_row16_col0\" class=\"data row16 col0\" >CPU Jobs</td>\n",
       "      <td id=\"T_74737_row16_col1\" class=\"data row16 col1\" >-1</td>\n",
       "    </tr>\n",
       "    <tr>\n",
       "      <th id=\"T_74737_level0_row17\" class=\"row_heading level0 row17\" >17</th>\n",
       "      <td id=\"T_74737_row17_col0\" class=\"data row17 col0\" >Use GPU</td>\n",
       "      <td id=\"T_74737_row17_col1\" class=\"data row17 col1\" >True</td>\n",
       "    </tr>\n",
       "    <tr>\n",
       "      <th id=\"T_74737_level0_row18\" class=\"row_heading level0 row18\" >18</th>\n",
       "      <td id=\"T_74737_row18_col0\" class=\"data row18 col0\" >Log Experiment</td>\n",
       "      <td id=\"T_74737_row18_col1\" class=\"data row18 col1\" >False</td>\n",
       "    </tr>\n",
       "    <tr>\n",
       "      <th id=\"T_74737_level0_row19\" class=\"row_heading level0 row19\" >19</th>\n",
       "      <td id=\"T_74737_row19_col0\" class=\"data row19 col0\" >Experiment Name</td>\n",
       "      <td id=\"T_74737_row19_col1\" class=\"data row19 col1\" >reg-default-name</td>\n",
       "    </tr>\n",
       "    <tr>\n",
       "      <th id=\"T_74737_level0_row20\" class=\"row_heading level0 row20\" >20</th>\n",
       "      <td id=\"T_74737_row20_col0\" class=\"data row20 col0\" >USI</td>\n",
       "      <td id=\"T_74737_row20_col1\" class=\"data row20 col1\" >7113</td>\n",
       "    </tr>\n",
       "  </tbody>\n",
       "</table>\n"
      ],
      "text/plain": [
       "<pandas.io.formats.style.Styler at 0x2229a2f8f10>"
      ]
     },
     "metadata": {},
     "output_type": "display_data"
    }
   ],
   "source": [
    "# Importer le module de régression de pycaret\n",
    "from pycaret.regression import*\n",
    "# Initialiser l'environnement de pycaret avec le jeu de données et la variable cible\n",
    "# Normaliser les données avec la méthode min-max\n",
    "# Utiliser le GPU si disponible\n",
    "s= setup(dataset,target=\"Car_Insurance_Premiums\",normalize=True,normalize_method=\"minmax\", use_gpu=True)\n"
   ]
  },
  {
   "cell_type": "markdown",
   "metadata": {},
   "source": [
    "### Comparaison des modèles pour déterminer le meilleur modèle"
   ]
  },
  {
   "cell_type": "code",
   "execution_count": null,
   "metadata": {
    "vscode": {
     "languageId": "plaintext"
    }
   },
   "outputs": [
    {
     "data": {
      "text/html": [
       "<div>\n",
       "<style scoped>\n",
       "    .dataframe tbody tr th:only-of-type {\n",
       "        vertical-align: middle;\n",
       "    }\n",
       "\n",
       "    .dataframe tbody tr th {\n",
       "        vertical-align: top;\n",
       "    }\n",
       "\n",
       "    .dataframe thead th {\n",
       "        text-align: right;\n",
       "    }\n",
       "</style>\n",
       "<table border=\"1\" class=\"dataframe\">\n",
       "  <thead>\n",
       "    <tr style=\"text-align: right;\">\n",
       "      <th></th>\n",
       "      <th></th>\n",
       "      <th></th>\n",
       "    </tr>\n",
       "    <tr>\n",
       "      <th></th>\n",
       "      <th></th>\n",
       "      <th></th>\n",
       "    </tr>\n",
       "  </thead>\n",
       "  <tbody>\n",
       "    <tr>\n",
       "      <th>Initiated</th>\n",
       "      <td>. . . . . . . . . . . . . . . . . .</td>\n",
       "      <td>06:32:51</td>\n",
       "    </tr>\n",
       "    <tr>\n",
       "      <th>Status</th>\n",
       "      <td>. . . . . . . . . . . . . . . . . .</td>\n",
       "      <td>Fitting 10 Folds</td>\n",
       "    </tr>\n",
       "    <tr>\n",
       "      <th>Estimator</th>\n",
       "      <td>. . . . . . . . . . . . . . . . . .</td>\n",
       "      <td>Extra Trees Regressor</td>\n",
       "    </tr>\n",
       "  </tbody>\n",
       "</table>\n",
       "</div>"
      ],
      "text/plain": [
       "                                                                     \n",
       "                                                                     \n",
       "Initiated  . . . . . . . . . . . . . . . . . .               06:32:51\n",
       "Status     . . . . . . . . . . . . . . . . . .       Fitting 10 Folds\n",
       "Estimator  . . . . . . . . . . . . . . . . . .  Extra Trees Regressor"
      ]
     },
     "metadata": {},
     "output_type": "display_data"
    },
    {
     "data": {
      "text/html": [
       "<style type=\"text/css\">\n",
       "#T_24c64 th {\n",
       "  text-align: left;\n",
       "}\n",
       "#T_24c64_row0_col0, #T_24c64_row0_col1, #T_24c64_row0_col2, #T_24c64_row0_col3, #T_24c64_row0_col4, #T_24c64_row0_col5, #T_24c64_row0_col6, #T_24c64_row0_col7, #T_24c64_row1_col0, #T_24c64_row1_col1, #T_24c64_row1_col2, #T_24c64_row1_col3, #T_24c64_row1_col4, #T_24c64_row1_col5, #T_24c64_row1_col6, #T_24c64_row1_col7 {\n",
       "  text-align: left;\n",
       "}\n",
       "</style>\n",
       "<table id=\"T_24c64\">\n",
       "  <thead>\n",
       "    <tr>\n",
       "      <th class=\"blank level0\" >&nbsp;</th>\n",
       "      <th id=\"T_24c64_level0_col0\" class=\"col_heading level0 col0\" >Model</th>\n",
       "      <th id=\"T_24c64_level0_col1\" class=\"col_heading level0 col1\" >MAE</th>\n",
       "      <th id=\"T_24c64_level0_col2\" class=\"col_heading level0 col2\" >MSE</th>\n",
       "      <th id=\"T_24c64_level0_col3\" class=\"col_heading level0 col3\" >RMSE</th>\n",
       "      <th id=\"T_24c64_level0_col4\" class=\"col_heading level0 col4\" >R2</th>\n",
       "      <th id=\"T_24c64_level0_col5\" class=\"col_heading level0 col5\" >RMSLE</th>\n",
       "      <th id=\"T_24c64_level0_col6\" class=\"col_heading level0 col6\" >MAPE</th>\n",
       "      <th id=\"T_24c64_level0_col7\" class=\"col_heading level0 col7\" >TT (Sec)</th>\n",
       "    </tr>\n",
       "  </thead>\n",
       "  <tbody>\n",
       "    <tr>\n",
       "      <th id=\"T_24c64_level0_row0\" class=\"row_heading level0 row0\" >gbr</th>\n",
       "      <td id=\"T_24c64_row0_col0\" class=\"data row0 col0\" >Gradient Boosting Regressor</td>\n",
       "      <td id=\"T_24c64_row0_col1\" class=\"data row0 col1\" >30.2793</td>\n",
       "      <td id=\"T_24c64_row0_col2\" class=\"data row0 col2\" >6418.6629</td>\n",
       "      <td id=\"T_24c64_row0_col3\" class=\"data row0 col3\" >58.5921</td>\n",
       "      <td id=\"T_24c64_row0_col4\" class=\"data row0 col4\" >0.8011</td>\n",
       "      <td id=\"T_24c64_row0_col5\" class=\"data row0 col5\" >0.0595</td>\n",
       "      <td id=\"T_24c64_row0_col6\" class=\"data row0 col6\" >0.0307</td>\n",
       "      <td id=\"T_24c64_row0_col7\" class=\"data row0 col7\" >1.5570</td>\n",
       "    </tr>\n",
       "    <tr>\n",
       "      <th id=\"T_24c64_level0_row1\" class=\"row_heading level0 row1\" >dt</th>\n",
       "      <td id=\"T_24c64_row1_col0\" class=\"data row1 col0\" >Decision Tree Regressor</td>\n",
       "      <td id=\"T_24c64_row1_col1\" class=\"data row1 col1\" >24.9742</td>\n",
       "      <td id=\"T_24c64_row1_col2\" class=\"data row1 col2\" >8711.3720</td>\n",
       "      <td id=\"T_24c64_row1_col3\" class=\"data row1 col3\" >68.3578</td>\n",
       "      <td id=\"T_24c64_row1_col4\" class=\"data row1 col4\" >0.6573</td>\n",
       "      <td id=\"T_24c64_row1_col5\" class=\"data row1 col5\" >0.0675</td>\n",
       "      <td id=\"T_24c64_row1_col6\" class=\"data row1 col6\" >0.0243</td>\n",
       "      <td id=\"T_24c64_row1_col7\" class=\"data row1 col7\" >0.8730</td>\n",
       "    </tr>\n",
       "  </tbody>\n",
       "</table>\n"
      ],
      "text/plain": [
       "<pandas.io.formats.style.Styler at 0x222901fb130>"
      ]
     },
     "metadata": {},
     "output_type": "display_data"
    },
    {
     "data": {
      "application/vnd.jupyter.widget-view+json": {
       "model_id": "3f5b838be53a4d2f859033d67fa3e678",
       "version_major": 2,
       "version_minor": 0
      },
      "text/plain": [
       "Processing:   0%|          | 0/25 [00:00<?, ?it/s]"
      ]
     },
     "metadata": {},
     "output_type": "display_data"
    }
   ],
   "source": [
    "# Comparer les modèles de régression spécifiés dans la liste include\n",
    "# Retourner le meilleur modèle selon la métrique R2\n",
    "best_model = compare_models(include=['gbr','dt','et','rf','lightgbm'])\n"
   ]
  },
  {
   "cell_type": "markdown",
   "metadata": {},
   "source": [
    "### Afficher le meilleur modèle"
   ]
  },
  {
   "cell_type": "code",
   "execution_count": null,
   "metadata": {
    "vscode": {
     "languageId": "plaintext"
    }
   },
   "outputs": [],
   "source": [
    "# Afficher les informations du meilleur modèle\n",
    "print(best_model)\n"
   ]
  },
  {
   "cell_type": "markdown",
   "metadata": {},
   "source": [
    "### Quelques plots du meilleur modèle"
   ]
  },
  {
   "cell_type": "code",
   "execution_count": null,
   "metadata": {
    "vscode": {
     "languageId": "plaintext"
    }
   },
   "outputs": [],
   "source": [
    "# Afficher le graphique des résidus du meilleur modèle\n",
    "plot_model(best_model,plot=\"residuals\")\n"
   ]
  },
  {
   "cell_type": "code",
   "execution_count": null,
   "metadata": {
    "vscode": {
     "languageId": "plaintext"
    }
   },
   "outputs": [],
   "source": [
    "# Afficher le graphique de l'erreur du meilleur modèle\n",
    "plot_model(best_model,plot=\"error\")\n"
   ]
  },
  {
   "cell_type": "code",
   "execution_count": null,
   "metadata": {
    "vscode": {
     "languageId": "plaintext"
    }
   },
   "outputs": [],
   "source": [
    "# Afficher le graphique de l'importance des variables du meilleur modèle\n",
    "plot_model(best_model,plot=\"feature\")\n"
   ]
  },
  {
   "cell_type": "markdown",
   "metadata": {},
   "source": [
    "### Création du modèle avec gbr"
   ]
  },
  {
   "cell_type": "code",
   "execution_count": null,
   "metadata": {
    "vscode": {
     "languageId": "plaintext"
    }
   },
   "outputs": [],
   "source": [
    "# Créer un modèle de régression avec le gradient boosting\n",
    "lr = create_model(\"gbr\")\n"
   ]
  },
  {
   "cell_type": "markdown",
   "metadata": {},
   "source": [
    "### optimisation du modèle avec optuna"
   ]
  },
  {
   "cell_type": "code",
   "execution_count": null,
   "metadata": {
    "vscode": {
     "languageId": "plaintext"
    }
   },
   "outputs": [],
   "source": [
    "# Affiner le modèle de régression avec le gradient boosting\n",
    "# Utiliser la bibliothèque optuna pour la recherche des hyperparamètres\n",
    "tune_gbr =tune_model(lr,search_library =\"optuna\")\n"
   ]
  },
  {
   "cell_type": "markdown",
   "metadata": {},
   "source": [
    "### Entrainement du modèle"
   ]
  },
  {
   "cell_type": "code",
   "execution_count": null,
   "metadata": {
    "vscode": {
     "languageId": "plaintext"
    }
   },
   "outputs": [],
   "source": [
    "# Séparer les variables explicatives (X) et la variable cible (y)\n",
    "X = dataset.drop(['Car_Insurance_Premiums'],axis=1)\n",
    "y = dataset['Car_Insurance_Premiums']\n",
    "# Afficher les variables explicatives\n",
    "X\n"
   ]
  },
  {
   "cell_type": "code",
   "execution_count": null,
   "metadata": {
    "vscode": {
     "languageId": "plaintext"
    }
   },
   "outputs": [],
   "source": [
    "# Importer la fonction de division des données de sklearn\n",
    "from sklearn.model_selection import train_test_split\n",
    "# Diviser les données en ensemble d'apprentissage (80%) et de test (20%)\n",
    "# Utiliser un état aléatoire fixe pour la reproductibilité\n",
    "X_train, X_test, y_train, y_test = train_test_split(X, y, test_size=0.2, random_state=5)\n"
   ]
  },
  {
   "cell_type": "code",
   "execution_count": null,
   "metadata": {
    "vscode": {
     "languageId": "plaintext"
    }
   },
   "outputs": [],
   "source": [
    "# Entraîner le modèle de régression avec le gradient boosting sur l'ensemble d'apprentissage\n",
    "lr.fit(X_train,y_train)\n"
   ]
  },
  {
   "cell_type": "code",
   "execution_count": null,
   "metadata": {
    "vscode": {
     "languageId": "plaintext"
    }
   },
   "outputs": [],
   "source": [
    "# Prédire les valeurs de la variable cible sur l'ensemble d'apprentissage\n",
    "y_pred_train =lr.predict(X_train)\n",
    "# Afficher les valeurs prédites\n",
    "y_pred_train\n"
   ]
  },
  {
   "cell_type": "code",
   "execution_count": null,
   "metadata": {
    "vscode": {
     "languageId": "plaintext"
    }
   },
   "outputs": [],
   "source": [
    "# Prédire les valeurs de la variable cible sur l'ensemble de test\n",
    "y_pred_test =lr.predict(X_test)\n",
    "# Afficher les valeurs prédites\n",
    "y_pred_test\n"
   ]
  },
  {
   "cell_type": "markdown",
   "metadata": {},
   "source": [
    "### Metrics d'évaluation"
   ]
  },
  {
   "cell_type": "code",
   "execution_count": null,
   "metadata": {
    "vscode": {
     "languageId": "plaintext"
    }
   },
   "outputs": [],
   "source": [
    "# Importer les fonctions pour calculer les mesures d'évaluation\n",
    "from sklearn.metrics import mean_squared_error,r2_score\n",
    "\n",
    "# Calculer le coefficient de détermination (r2) sur les données d'entraînement\n",
    "r2_train = r2_score(y_train,y_pred_train)\n",
    "# Afficher le résultat\n",
    "print(\"r2 du train : \", r2_train)\n",
    "\n",
    "# Calculer l'erreur quadratique moyenne (mse) sur les données d'entraînement\n",
    "mse_train = mean_squared_error(y_train,y_pred_train)\n",
    "# Afficher le résultat\n",
    "print(\"mse du train : \",mse_train)\n"
   ]
  },
  {
   "cell_type": "code",
   "execution_count": null,
   "metadata": {
    "vscode": {
     "languageId": "plaintext"
    }
   },
   "outputs": [],
   "source": [
    "# Importer la classe pour créer un modèle de régression linéaire\n",
    "from sklearn.linear_model import LinearRegression\n",
    "\n",
    "# Instancier un objet de la classe LinearRegression\n",
    "regressor = LinearRegression()\n",
    "\n",
    "# Ajuster le modèle aux données d'entraînement\n",
    "regressor.fit(X_train,y_train)\n"
   ]
  },
  {
   "cell_type": "markdown",
   "metadata": {},
   "source": [
    "### Prédiction du test"
   ]
  },
  {
   "cell_type": "code",
   "execution_count": null,
   "metadata": {
    "vscode": {
     "languageId": "plaintext"
    }
   },
   "outputs": [],
   "source": [
    "# Faire des prédictions sur les données de test\n",
    "y_pred_test =regressor.predict(X_test)\n",
    "\n",
    "# Afficher les valeurs prédites\n",
    "y_pred_test\n"
   ]
  },
  {
   "cell_type": "code",
   "execution_count": null,
   "metadata": {
    "vscode": {
     "languageId": "plaintext"
    }
   },
   "outputs": [],
   "source": [
    "# Importer les fonctions pour calculer les mesures d'évaluation\n",
    "from sklearn.metrics import mean_squared_error, r2_score\n",
    "\n",
    "# Calculer l'erreur quadratique moyenne (rmse) sur les données d'entraînement et de test\n",
    "train_rmse = np.sqrt(mean_squared_error(y_train, y_pred_train))\n",
    "test_rmse = np.sqrt(mean_squared_error(y_test, y_pred_test))\n",
    "\n",
    "# Calculer le coefficient de détermination (r2) sur les données d'entraînement et de test\n",
    "train_r2 = r2_score(y_train, y_pred_train)\n",
    "test_r2 = r2_score(y_test, y_pred_test)\n",
    "\n",
    "# Afficher les résultats\n",
    "print(\"RMSE du train:\", train_rmse)\n",
    "print(\"RMSE du test:\", test_rmse)\n"
   ]
  },
  {
   "cell_type": "code",
   "execution_count": null,
   "metadata": {
    "vscode": {
     "languageId": "plaintext"
    }
   },
   "outputs": [],
   "source": [
    "# Importer la fonction pour faire de la validation croisée\n",
    "from sklearn.model_selection import cross_val_score\n",
    "\n",
    "# Importer la fonction pour calculer l'erreur quadratique moyenne\n",
    "from sklearn.metrics import mean_squared_error\n",
    "\n",
    "# Faire de la validation croisée avec 5 plis sur le modèle de régression linéaire et les données d'entraînement\n",
    "# Utiliser le score négatif de l'erreur quadratique moyenne comme critère d'évaluation\n",
    "scores = cross_val_score(lr, X_train, y_train, cv=5, scoring='neg_mean_squared_error')\n",
    "\n",
    "# Calculer la racine carrée des scores négatifs pour obtenir les scores de RMSE\n",
    "rmse_scores = np.sqrt(-scores)\n",
    "\n",
    "# Afficher les scores de RMSE pour chaque pli\n",
    "print(\"RMSE scores:\", rmse_scores)\n",
    "\n",
    "# Calculer la moyenne des scores de RMSE\n",
    "print(\"Mean RMSE:\", rmse_scores.mean())\n"
   ]
  },
  {
   "cell_type": "markdown",
   "metadata": {},
   "source": [
    "### Sauvegarde du modèle "
   ]
  },
  {
   "cell_type": "code",
   "execution_count": null,
   "metadata": {
    "vscode": {
     "languageId": "plaintext"
    }
   },
   "outputs": [],
   "source": [
    "# Importer le module pickle pour sauvegarder le modèle\n",
    "import pickle\n",
    "\n",
    "# Ouvrir un fichier en mode écriture binaire\n",
    "with open('gbr.pkl', 'wb') as file:\n",
    "     # Sauvegarder le modèle de régression linéaire dans le fichier\n",
    "     pickle.dump(lr, file)\n"
   ]
  },
  {
   "cell_type": "markdown",
   "metadata": {},
   "source": [
    "### Création de l'application"
   ]
  },
  {
   "cell_type": "code",
   "execution_count": null,
   "metadata": {
    "vscode": {
     "languageId": "plaintext"
    }
   },
   "outputs": [],
   "source": [
    "create_app(lr)"
   ]
  }
 ],
 "metadata": {
  "kernelspec": {
   "display_name": "Python 3 (ipykernel)",
   "language": "python",
   "name": "python3"
  },
  "language_info": {
   "name": "python"
  }
 },
 "nbformat": 4,
 "nbformat_minor": 2
}
